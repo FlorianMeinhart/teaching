{
 "cells": [
  {
   "cell_type": "markdown",
   "metadata": {},
   "source": [
    "# The Perceptron\n",
    "\n",
    "**Course**: Computer Vision (911.908)    \n",
    "**Author**: Roland Kwitt (Dept. of Computer Science, Univ. of Salzburg)       \n",
    "Winter term 2019/20\n",
    "\n",
    "---\n",
    "\n",
    "**Acknowledgments**: Parts of this lecture are taken from Sebastian Raschka's course on [Deep Learning](http://pages.stat.wisc.edu/~sraschka/teaching/stat479-ss2019/) at UW-Madison and the book *Understanding Machine Learning - From Theory to Practice* by Shalev-Schwartz and Ben-David.\n",
    "\n",
    "---\n",
    "\n",
    "## Content\n",
    "\n",
    "- [Perceptron model](#Perceptron-model)\n",
    "- [Perceptron learning rule](#(Perceptron)-learning-rule)\n",
    "- [Implementation](#Implementation)\n",
    "- [Theory](#Theory)\n",
    "\n",
    "\n",
    "---\n",
    "\n",
    "## Perceptron model\n",
    "\n",
    "In this lecture, we discuss the *classic* perceptron model, also known as the **Rosenblatt Perceptron** (Rosenblatt, 1957). If you want to read the original paper, see [here](https://blogs.umass.edu/brain-wars/files/2016/03/rosenblatt-1957.pdf).\n",
    "\n",
    "**Mathematical model**: Upon receiving an input $\\mathbf{x} \\in \\mathbb{R}^d$, the perceptron computes\n",
    "\n",
    "$$\n",
    "\\text{output} = \\begin{cases}\n",
    "1 & \\text{if}~\\sum_{i=1}^{d} w_i x_i > \\theta \\\\\n",
    "0 & \\text{else}\n",
    "\\end{cases}\n",
    "$$\n",
    "\n",
    "where $\\mathbf{w} = [w_1,\\ldots,w_d]^\\top$ and $\\theta$ (i.e., a scalar) represent the **model parameters**.\n",
    "\n",
    "Effectively, we compute the inner product between a weight vector $\\mathbf{w}$ and the input $\\mathbf{x}$ and then apply a threshold function on the output. In most modern treatment of the subject, its more convenient to first define\n",
    "\n",
    "$$ \\phi_\\theta(z) = \\begin{cases}\n",
    "1 & \\text{if}~z-\\theta > 0\\\\\n",
    "0 & \\text{if}~z-\\theta \\leq 0\n",
    "\\end{cases}\n",
    "$$\n",
    " \n",
    "and then write the perceptron computation as\n",
    "\n",
    "$$\n",
    "\\text{output} = \\phi_\\theta(\\mathbf{w}^\\top \\mathbf{x})\n",
    "$$\n",
    "\n",
    "For our purposes, it will be even more convenient to write $\\mathbf{w}=[w_0,w_1,\\ldots,w_d]^\\top$ and \n",
    "$\\mathbf{x} = [1,x_1,\\ldots,x_d]^\\top$ with $w_0 = -\\theta$. That is, we include the **bias** term $-\\theta = w_0$ into $\\mathbf{w}$. This then allows to define\n",
    "\n",
    "$$\n",
    "\\phi(z) = \\begin{cases}\n",
    "1 & \\text{if}~z > 0 \\\\\n",
    "0 & \\text{if}~z \\leq 0\n",
    "\\end{cases}\n",
    "$$\n",
    "\n",
    "and write\n",
    "\n",
    "$$\n",
    "\\text{output} = \\phi(\\mathbf{w}^\\top \\mathbf{x})\n",
    "$$"
   ]
  },
  {
   "cell_type": "markdown",
   "metadata": {},
   "source": [
    "---\n",
    "## (Perceptron) learning rule\n",
    "\n",
    "The perceptron learning rule is quite simple. Given a collection of training points $(\\mathbf{x}_i,y_i), i \\in \\{1,\\ldots,m\\}$ with $y_i \\in \\{0,1\\}$, we distinguish between the following **three cases**:\n",
    "\n",
    "1. if correct: do nothing\n",
    "2. if incorrect (output $0$, desired $1$): add input vector to weight vector\n",
    "3. if incorrect (output $1$, desired $0$): subtract input vector from weight vector\n",
    "\n",
    "**Algorithmically**, we have:\n",
    "\n",
    "Initialize $\\mathbf{w}^{(1)} = \\mathbf{0}$    \n",
    "For every training epoch (i.e., one run over all training points):    \n",
    "&nbsp;&nbsp;&nbsp;&nbsp; $\\forall i \\in \\{1,\\ldots,m\\}: \\hat{y}_i = \\phi(\\mathbf{w}^\\top \\mathbf{x}_i)$      \n",
    "&nbsp;&nbsp;&nbsp;&nbsp; $\\forall i \\in \\{1,\\ldots,m\\}: \\text{err}_i = (y_i - \\hat{y}_i)$   \n",
    "&nbsp;&nbsp;&nbsp;&nbsp; $\\forall i \\in \\{1,\\ldots,m\\}: \\mathbf{w}^{(t+1)} = \\mathbf{w}^{(t)} + \\text{err}_i \\cdot \\mathbf{x}_i$    \n",
    "Terminate if no errors occur, or we reach a certain number of runs over the training data.\n",
    "    \n",
    "**Note**: if $\\hat{y_i} = y_i$, then we do nothing; otherwise, we either add or subtract the input sample $\\mathbf{x}_i$ from the weight vector $\\mathbf{w}^{(t)}$.\n",
    "\n",
    "For our formal analysis (later), lets assume the weight vectors include the bias and that $y_i \\in \\{-1,+1\\}$:\n",
    "\n",
    "**Input**: $(\\mathbf{x}_i,y_i),\\ldots,(\\mathbf{x}_m,y_m)$    \n",
    "**Initialize**: $\\mathbf{w}^{(1)} = \\mathbf{0}$    \n",
    "**for** $t = 1,2,\\ldots$    \n",
    "&nbsp;&nbsp;&nbsp;&nbsp; **if** $\\exists~i~\\text{s.t.}~ y_i \\langle \\mathbf{w}^{(t)},\\mathbf{x}_i\\rangle \\leq 0$ then    \n",
    "&nbsp;&nbsp;&nbsp;&nbsp;&nbsp;&nbsp;&nbsp;&nbsp; $\\mathbf{w}^{(t+1)} = \\mathbf{w}^{(t)}+y_i \\mathbf{x}_i$    \n",
    "&nbsp;&nbsp;&nbsp;&nbsp;**else**    \n",
    "&nbsp;&nbsp;&nbsp;&nbsp;&nbsp;&nbsp;&nbsp;&nbsp; **output** $\\mathbf{w}^{(t)}$\n",
    "\n",
    "So, this algorithm (to which we refer to as *Algorithm 1* for later use) terminates once every example is classified correctly."
   ]
  },
  {
   "cell_type": "markdown",
   "metadata": {},
   "source": [
    "---\n",
    "\n",
    "## Implementation"
   ]
  },
  {
   "cell_type": "code",
   "execution_count": 1,
   "metadata": {},
   "outputs": [],
   "source": [
    "%load_ext autoreload\n",
    "%autoreload 2\n",
    "\n",
    "import torch\n",
    "import numpy as np\n",
    "\n",
    "%matplotlib inline\n",
    "import matplotlib.pyplot as plt"
   ]
  },
  {
   "cell_type": "markdown",
   "metadata": {},
   "source": [
    "### Dataset"
   ]
  },
  {
   "cell_type": "markdown",
   "metadata": {},
   "source": [
    "We use some simple aleady prepared **toy data**. "
   ]
  },
  {
   "cell_type": "code",
   "execution_count": 2,
   "metadata": {},
   "outputs": [
    {
     "name": "stdout",
     "output_type": "stream",
     "text": [
      "Class label counts: [50 50]\n",
      "X.shape: (100, 2)\n",
      "y.shape: (100,)\n"
     ]
    }
   ],
   "source": [
    "data = np.genfromtxt('perceptron_toydata.txt', delimiter='\\t')\n",
    "X, y = data[:, :2], data[:, 2]\n",
    "y = y.astype(np.int)\n",
    "\n",
    "print('Class label counts:', np.bincount(y))\n",
    "print('X.shape:', X.shape)\n",
    "print('y.shape:', y.shape)\n",
    "\n",
    "shuffle_idx = np.arange(y.shape[0])\n",
    "shuffle_rng = np.random.RandomState(123)\n",
    "shuffle_rng.shuffle(shuffle_idx)\n",
    "\n",
    "X, y = X[shuffle_idx], y[shuffle_idx]\n",
    "\n",
    "X_train, X_test = X[shuffle_idx[:70]], X[shuffle_idx[70:]]\n",
    "y_train, y_test = y[shuffle_idx[:70]], y[shuffle_idx[70:]]\n",
    "\n",
    "mu, sigma = X_train.mean(axis=0), X_train.std(axis=0)\n",
    "X_train = (X_train - mu) / sigma\n",
    "X_test = (X_test - mu) / sigma"
   ]
  },
  {
   "cell_type": "markdown",
   "metadata": {},
   "source": [
    "Visually, the **training** data looks like this:"
   ]
  },
  {
   "cell_type": "code",
   "execution_count": 3,
   "metadata": {},
   "outputs": [
    {
     "data": {
      "image/png": "[encoded data removed]",
      "text/plain": [
       "<Figure size 360x360 with 1 Axes>"
      ]
     },
     "metadata": {},
     "output_type": "display_data"
    }
   ],
   "source": [
    "plt.figure(figsize=(5,5))\n",
    "plt.scatter(X_train[y_train==0, 0], X_train[y_train==0, 1], label='class 0', marker='o')\n",
    "plt.scatter(X_train[y_train==1, 0], X_train[y_train==1, 1], label='class 1', marker='s')\n",
    "plt.title('Training set')\n",
    "plt.xlabel('feature 1')\n",
    "plt.ylabel('feature 2')\n",
    "plt.xlim([-3, 3])\n",
    "plt.ylim([-3, 3])\n",
    "plt.legend()\n",
    "plt.show()"
   ]
  },
  {
   "cell_type": "markdown",
   "metadata": {},
   "source": [
    "And the **testing** data looks like this:"
   ]
  },
  {
   "cell_type": "code",
   "execution_count": 4,
   "metadata": {},
   "outputs": [
    {
     "data": {
      "image/png": "[encoded data removed]",
      "text/plain": [
       "<Figure size 360x360 with 1 Axes>"
      ]
     },
     "metadata": {},
     "output_type": "display_data"
    }
   ],
   "source": [
    "plt.figure(figsize=(5,5))\n",
    "plt.scatter(X_test[y_test==0, 0], X_test[y_test==0, 1], label='class 0', marker='o')\n",
    "plt.scatter(X_test[y_test==1, 0], X_test[y_test==1, 1], label='class 1', marker='s')\n",
    "plt.title('Test set')\n",
    "plt.xlabel('feature 1')\n",
    "plt.ylabel('feature 2')\n",
    "plt.xlim([-3, 3])\n",
    "plt.ylim([-3, 3])\n",
    "plt.legend()\n",
    "plt.show()"
   ]
  },
  {
   "cell_type": "markdown",
   "metadata": {},
   "source": [
    "### Model\n",
    "\n",
    "Lets implement the Perceptron model and its learning rule."
   ]
  },
  {
   "cell_type": "code",
   "execution_count": 5,
   "metadata": {},
   "outputs": [],
   "source": [
    "class Perceptron():\n",
    "    def __init__(self, num_features):\n",
    "        \"\"\"Contructor\n",
    "        \n",
    "        Args:\n",
    "            num_features (int): Number of input features\n",
    "            \n",
    "        Note that we do not include the bias into the weights here.\n",
    "        \"\"\"\n",
    "        self.num_features = num_features\n",
    "        self.weights = np.zeros((num_features, 1), dtype=np.float)\n",
    "        self.bias = np.zeros(1, dtype=np.float)\n",
    "\n",
    "    def forward(self, x):\n",
    "        \"\"\"Computes the perceptron output.\n",
    "        \n",
    "        Args:\n",
    "            x (np.array): Input data\n",
    "            \n",
    "        Returns:\n",
    "            y (np.array): Predictions (0/1)\n",
    "        \"\"\"\n",
    "        linear = np.dot(x, self.weights) + self.bias # <w,x>+b\n",
    "        predictions = np.where(linear > 0., 1, 0)\n",
    "        return predictions\n",
    "        \n",
    "    def backward(self, x, y):\n",
    "        \"\"\"Perceptron error computation.\n",
    "        \n",
    "        Args:\n",
    "            x (np.array): Input features\n",
    "            y (np.array): Labels of input featuers (0/1)\n",
    "        \"\"\"\n",
    "        predictions = self.forward(x)\n",
    "        errors = y - predictions\n",
    "        return errors\n",
    "        \n",
    "    def train(self, x, y, epochs):\n",
    "        \"\"\"Implementation of the perceptron learning rule.\n",
    "        \n",
    "        Args: \n",
    "            x (np.array): Input features\n",
    "            y (np.array): Labels of input features (0/1)\n",
    "            epochs (int): Number of times to run through the data\n",
    "        \"\"\"\n",
    "        # go over the training data #epoch times\n",
    "        for e in range(epochs):\n",
    "            # iterate over all training samples\n",
    "            for i in range(y.shape[0]):\n",
    "                errors = self.backward(x[i].reshape(1, self.num_features), y[i]).reshape(-1)\n",
    "                self.weights += (errors * x[i]).reshape(self.num_features, 1)\n",
    "                self.bias += errors\n",
    "                \n",
    "    def evaluate(self, x, y):\n",
    "        \"\"\"Computes accuracy of perceptron model.\n",
    "        \n",
    "        Args:\n",
    "            x (np.array): Input features\n",
    "            y (np.array): Labels of input features (0/1)\n",
    "            \n",
    "        Returns:\n",
    "            acc (float): Accuracy (in [0,1]) of perceptron model on input data.\n",
    "        \"\"\"\n",
    "        predictions = self.forward(x).reshape(-1)\n",
    "        accuracy = np.sum(predictions == y) / y.shape[0]\n",
    "        return accuracy"
   ]
  },
  {
   "cell_type": "markdown",
   "metadata": {},
   "source": [
    "### Training"
   ]
  },
  {
   "cell_type": "code",
   "execution_count": 6,
   "metadata": {},
   "outputs": [
    {
     "name": "stdout",
     "output_type": "stream",
     "text": [
      "Model parameters:\n",
      "Weights:\n",
      "--------\n",
      "[[1.27340847]\n",
      " [1.34642288]]\n",
      "Bias:\n",
      "-----\n",
      "[-1.]\n"
     ]
    }
   ],
   "source": [
    "ppn = Perceptron(num_features=2)\n",
    "\n",
    "ppn.train(X_train, y_train, epochs=10)\n",
    "\n",
    "print('Model parameters:')\n",
    "print('Weights:')\n",
    "print('--------')\n",
    "print(ppn.weights)\n",
    "print('Bias:')\n",
    "print('-----')\n",
    "print(ppn.bias)"
   ]
  },
  {
   "cell_type": "markdown",
   "metadata": {},
   "source": [
    "### Evaluation"
   ]
  },
  {
   "cell_type": "code",
   "execution_count": 7,
   "metadata": {},
   "outputs": [
    {
     "name": "stdout",
     "output_type": "stream",
     "text": [
      "Train set accuracy: 100.00%\n",
      "Test set accuracy: 93.33%\n"
     ]
    }
   ],
   "source": [
    "train_acc = ppn.evaluate(X_train, y_train)\n",
    "test_acc = ppn.evaluate(X_test, y_test)\n",
    "\n",
    "print('Train set accuracy: %.2f%%' % (train_acc*100))\n",
    "print('Test set accuracy: %.2f%%' % (test_acc*100))"
   ]
  },
  {
   "cell_type": "markdown",
   "metadata": {},
   "source": [
    "We see that the training data is perfectly **linearly separable**; the testing error (on previously unseen data) is also very close."
   ]
  },
  {
   "cell_type": "markdown",
   "metadata": {},
   "source": [
    "### Visualizing the decision boundary"
   ]
  },
  {
   "cell_type": "code",
   "execution_count": 8,
   "metadata": {},
   "outputs": [
    {
     "data": {
      "image/png": "[encoded data removed]",
      "text/plain": [
       "<Figure size 504x216 with 2 Axes>"
      ]
     },
     "metadata": {},
     "output_type": "display_data"
    }
   ],
   "source": [
    "w, b = ppn.weights, ppn.bias\n",
    "\n",
    "x_min = -2\n",
    "y_min = ( (-(w[0] * x_min) - b[0]) \n",
    "          / w[1] )\n",
    "\n",
    "x_max = 2\n",
    "y_max = ( (-(w[0] * x_max) - b[0]) \n",
    "          / w[1] )\n",
    "\n",
    "\n",
    "fig, ax = plt.subplots(1, 2, sharex=True, figsize=(7, 3))\n",
    "\n",
    "ax[0].plot([x_min, x_max], [y_min, y_max])\n",
    "ax[1].plot([x_min, x_max], [y_min, y_max])\n",
    "\n",
    "ax[0].scatter(X_train[y_train==0, 0], X_train[y_train==0, 1], label='class 0', marker='o')\n",
    "ax[0].scatter(X_train[y_train==1, 0], X_train[y_train==1, 1], label='class 1', marker='s')\n",
    "\n",
    "ax[1].scatter(X_test[y_test==0, 0], X_test[y_test==0, 1], label='class 0', marker='o')\n",
    "ax[1].scatter(X_test[y_test==1, 0], X_test[y_test==1, 1], label='class 1', marker='s')\n",
    "\n",
    "ax[1].legend(loc='upper left')\n",
    "plt.show()"
   ]
  },
  {
   "cell_type": "markdown",
   "metadata": {},
   "source": [
    "---\n",
    "## Theory\n",
    "\n",
    "Lets first recap that the perceptron update rule (from *Algorithm 1*) is\n",
    "\n",
    "$$\\mathbf{w}^{(t+1)} = \\mathbf{w}^{(t)} + y_i \\mathbf{x}_i$$\n",
    "\n",
    "in case $\\mathbf{x}_i$ is incorrectly classified. Also note that\n",
    "\n",
    "$$y_i \\langle \\mathbf{w}^{(t+1)},\\mathbf{x}_i\\rangle =  y_i \\langle \\mathbf{w}^{(t)} + y_i\\mathbf{x}_i,\\mathbf{x}_i\\rangle = y_i \\langle \\mathbf{w}^{(t)},\\mathbf{x}_i\\rangle + \\|\\mathbf{x}_i\\|^2$$\n",
    "\n",
    "Hence, learning guides the perceptron to be more correct on the $i$-th sample (as $y_i \\langle \\mathbf{w}^{(t)},\\mathbf{x}_i\\rangle \\leq 0$ for incorrect samples)."
   ]
  },
  {
   "cell_type": "markdown",
   "metadata": {},
   "source": [
    "**Theorem**: Assume that $(\\mathbf{x}_1,y_1),\\ldots,(\\mathbf{x}_m,y_m)$ is seperable and let $B = \\min\\{\\|\\mathbf{w}\\|: \\forall i \\in [m], y_i \\langle \\mathbf{w},\\mathbf{x}_i\\rangle \\geq 1\\}$ . Also, let $R = \\max_i \\|\\mathbf{x}_i\\|$. Then, the Perceptron learning algorithm stops after at most $(BR)^2$ iterations and when it stops, it holds that $\\forall i \\in [m], y_i \\langle \\mathbf{w},\\mathbf{x}_i \\rangle > 0$.\n",
    "\n",
    "**Proof**: By the definition of the stopping criterion of Algorithm 1, if the algorithm stops, all samples are correctly classified.\n",
    "\n",
    "We will show that if it stops after $T$ iterations, then $T \\leq (RB)^2$. To show this, we let $\\mathbf{w}^*$ be a vector which achieves the minimum in the definition of $B$ from the theorem above.\n",
    "\n",
    "Our strategy is to consider the cosine angle between $\\mathbf{w}^*$ and $\\mathbf{w}^{(T+1)}$. This cosine angle is defined as the inner product between these vectors, divided by the product of their norms, i.e.,\n",
    "\n",
    "$$\n",
    "\\cos(\\alpha) = \\frac{\\langle \\mathbf{w}^*, \\mathbf{w}^{(T+1)}\\rangle}{\\|\\mathbf{w}^*\\|\\|\\mathbf{w}^{(T+1)}\\|}\n",
    "$$\n",
    "\n",
    "Due to the Cauchy-Schwartz inequality, $\\langle \\mathbf{x},\\mathbf{y} \\rangle \\leq \\|\\mathbf{x}\\| \\|\\mathbf{y}\\|$, we know that $\\cos(\\alpha) \\leq 1$. **If we can show** that\n",
    "\n",
    "$$\n",
    "\\cos(\\alpha) = \\frac{\\langle \\mathbf{w}^*, \\mathbf{w}^{(T+1)}\\rangle}{\\|\\mathbf{w}^*\\|\\|\\mathbf{w}^{(T+1)}\\|} \\geq \\frac{\\sqrt{T}}{RB}\n",
    "$$\n",
    "\n",
    "we are done, as\n",
    "\n",
    "$$\n",
    "1 \\geq  \\frac{\\sqrt{T}}{RB} \\Rightarrow T \\leq (RB)^2\n",
    "$$\n",
    "\n",
    "\n",
    "\n",
    "First, lets note that \n",
    "\n",
    "$$ \\langle \\mathbf{w}^*,\\mathbf{w}^{(T+1)}\\rangle \\geq T $$\n",
    "\n",
    "This is easy to check: Initially, $\\mathbf{w}^{(1)} = \\mathbf{0}$ and hence \n",
    "\n",
    "$$\\langle \\mathbf{w}^*,\\mathbf{w}^{(1)}\\rangle = 0$$"
   ]
  },
  {
   "cell_type": "markdown",
   "metadata": {},
   "source": [
    "Note that, e.g., with $T=2$, we have\n",
    "\n",
    "$$\n",
    "\\langle \\mathbf{w}^*,\\mathbf{w}^{(3)}\\rangle = (\\langle \\mathbf{w}^*,\\mathbf{w}^{(2}) \\rangle - \n",
    "\\underbrace{\\langle \\mathbf{w}^*,\\mathbf{w}^{(1)}}_{=0} \\rangle) + (\\langle \\mathbf{w}^*,\\mathbf{w}^{(3}) \\rangle - \\langle \\mathbf{w}^*,\\mathbf{w}^{(2)} \\rangle) \n",
    "$$\n",
    "\n",
    "In general, this means that after performing $T$ iterations, we have\n",
    "\n",
    "$$\n",
    "\\langle \\mathbf{w}^*,\\mathbf{w}^{(T+1)}\\rangle  = \\sum_{i=1}^T \\left( \\langle \\mathbf{w}^*,\\mathbf{w}^{(t+1)} \\rangle - \n",
    "\\langle \\mathbf{w}^*,\\mathbf{w}^{(t)} \\rangle\n",
    "\\right)\n",
    "$$"
   ]
  },
  {
   "cell_type": "markdown",
   "metadata": {},
   "source": [
    "Now, on iteration $t$, if we update with $(\\mathbf{x}_i,y_i)$, we have\n",
    "\n",
    "$$ \\langle \\mathbf{w}^*,\\mathbf{w}^{(t+1)}\\rangle - \\langle \\mathbf{w}^*,\\mathbf{w}^{(t)}\\rangle = \n",
    "\\langle \\mathbf{w}^*,\\mathbf{w}^{(t+1)}-\\mathbf{w}^{(t)}\\rangle = \\langle \\mathbf{w}^*,y_i \\mathbf{x}_i\\rangle \\geq 1$$\n",
    "\n",
    "by construction. This gives us\n",
    "\n",
    "\\begin{align*}\n",
    "\\langle \\mathbf{w}^*,\\mathbf{w}^{(T+1)}\\rangle  & = \\sum_{i=1}^T \\left( \\langle \\mathbf{w}^*,\\mathbf{w}^{(t+1)} \\rangle - \n",
    "\\langle \\mathbf{w}^*,\\mathbf{w}^{(t)} \\rangle \n",
    "\\right) \\\\\n",
    "& \\geq T\n",
    "\\end{align*}\n",
    "\n",
    "**Hence, we have a bound on the nominator** in our expression for $\\cos(\\alpha)$. Lets look at the denominator.\n",
    "We can also easily bound $\\| \\mathbf{w}^{(T+1)} \\|$. In fact,\n",
    "\n",
    "$$ \\| \\mathbf{w}^{(t+1)} \\|^2 =  \\| \\mathbf{w}^{(t)} + y_i\\mathbf{x}_i \\|^2$$\n",
    "\n",
    "in iteration $t$. Multiplying this out gives \n",
    "\n",
    "$$\n",
    "\\| \\mathbf{w}^{(t)} + y_i\\mathbf{x}_i \\|^2 = \n",
    "\\| \\mathbf{w}^{(t)} \\|^2 +2y_i \\langle \\mathbf{w}^{(t)},\\mathbf{x}_i\\rangle + y_i^2\\|\\mathbf{x}_i\\|^2 \\leq\n",
    "\\| \\mathbf{w}^{(t)}\\|^2 + R^2\n",
    "$$\n",
    "\n",
    "This holds, since an update occurs for a falsely classified sample, i.e., $2y_i \\langle \\mathbf{w}^{(t)},\\mathbf{x}_i\\rangle \\leq 0$ and \n",
    "$\\|\\mathbf{x}_i\\|^2$ is at most $R^2$. Since, for iteration $t=1$, we \n",
    "have $\\| \\mathbf{w}^{(1)}\\|^2 = 0$, running $T$ iterations and applying the previous inequality gives\n",
    "\n",
    "$$\n",
    "\\| \\mathbf{w}^{(T+1)} \\|^2 \\leq TR^2 \\Rightarrow \\| \\mathbf{w}^{(T+1)} \\| \\leq \\sqrt{T}R\n",
    "$$\n",
    "\n",
    "We are now in the position where we have\n",
    "\n",
    "1. $\\| \\mathbf{w}^{(T+1)} \\| \\leq \\sqrt{T}R$\n",
    "2. $\\langle \\mathbf{w}^*,\\mathbf{w}^{(T+1)}\\rangle \\geq T$, and\n",
    "3. $\\|\\mathbf{w}^*\\| = B$\n",
    "\n",
    "It follows that\n",
    "\n",
    "$$\n",
    "\\frac{1}{\\| \\mathbf{w}^{(T+1)} \\| \\|\\mathbf{w}^*\\|} \\geq B\\sqrt{T}R \n",
    "$$\n",
    "and, combined,\n",
    "\n",
    "$$\n",
    " \\frac{\\langle \\mathbf{w}^*, \\mathbf{w}^{(T+1)}\\rangle}{\\|\\mathbf{w}^*\\|\\|\\mathbf{w}^{(T+1)}\\|} \\geq \\frac{\\sqrt{T}}{BR}\n",
    "$$\n",
    "which concludes the proof.\n",
    "\n",
    "<div class=\"alert alert-block alert-info\">\n",
    "<b>CAUTION</b>: It is important to note that in the non-seperable case, this no longer holds and we have \n",
    "<b>no convergence guarantee</b>. This is why eventually stop after a couple of runs over our data (i.e., the epochs in our implementation).\n",
    "\n",
    "</div>\n",
    "\n"
   ]
  },
  {
   "cell_type": "code",
   "execution_count": null,
   "metadata": {},
   "outputs": [],
   "source": []
  }
 ],
 "metadata": {
  "kernelspec": {
   "display_name": "Python 3",
   "language": "python",
   "name": "python3"
  },
  "language_info": {
   "codemirror_mode": {
    "name": "ipython",
    "version": 3
   },
   "file_extension": ".py",
   "mimetype": "text/x-python",
   "name": "python",
   "nbconvert_exporter": "python",
   "pygments_lexer": "ipython3",
   "version": "3.6.7"
  }
 },
 "nbformat": 4,
 "nbformat_minor": 2
}
