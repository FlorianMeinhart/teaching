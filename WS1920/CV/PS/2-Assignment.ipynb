{
 "cells": [
  {
   "cell_type": "markdown",
   "metadata": {},
   "source": [
    "# Assignment 2 (10 points)\n",
    "(due on Oct. 23, 8:am)"
   ]
  },
  {
   "cell_type": "markdown",
   "metadata": {},
   "source": [
    "In the second assignment, we create our own simple neural network, a multi layer perceptron  (MLP) which takes in vectorized CIFAR-10 images and returns a 10-dimensional output."
   ]
  },
  {
   "cell_type": "code",
   "execution_count": 1,
   "metadata": {},
   "outputs": [],
   "source": [
    "import torch\n",
    "import torchvision\n",
    "from torchvision.datasets import MNIST, CIFAR10\n",
    "import torchvision.transforms as transforms\n",
    "from torch.utils.data.dataset import Subset\n",
    "\n",
    "%matplotlib inline\n",
    "import matplotlib.pyplot as plt\n",
    "import numpy as np\n",
    "import torch.nn as nn\n",
    "\n",
    "from sklearn.model_selection import StratifiedShuffleSplit\n",
    "\n",
    "torch.manual_seed(1234);\n",
    "np.random.seed(1234);"
   ]
  },
  {
   "cell_type": "markdown",
   "metadata": {},
   "source": [
    "First, we download the *training* split of CIFAR-10, and collect all labels."
   ]
  },
  {
   "cell_type": "code",
   "execution_count": 2,
   "metadata": {},
   "outputs": [
    {
     "name": "stdout",
     "output_type": "stream",
     "text": [
      "Files already downloaded and verified\n"
     ]
    }
   ],
   "source": [
    "ds_train = CIFAR10('/tmp/cifar', \n",
    "                 train=True, \n",
    "                 transform=transforms.ToTensor(), \n",
    "                 target_transform=None, \n",
    "                 download=True)\n",
    "\n",
    "lab = [ds_train[x][1] for x in range(len(ds_train))]"
   ]
  },
  {
   "cell_type": "code",
   "execution_count": 3,
   "metadata": {},
   "outputs": [
    {
     "data": {
      "text/plain": [
       "Counter({6: 5000,\n",
       "         9: 5000,\n",
       "         4: 5000,\n",
       "         1: 5000,\n",
       "         2: 5000,\n",
       "         7: 5000,\n",
       "         8: 5000,\n",
       "         3: 5000,\n",
       "         5: 5000,\n",
       "         0: 5000})"
      ]
     },
     "execution_count": 3,
     "metadata": {},
     "output_type": "execute_result"
    }
   ],
   "source": [
    "from collections import Counter\n",
    "Counter(lab)"
   ]
  },
  {
   "cell_type": "code",
   "execution_count": 4,
   "metadata": {},
   "outputs": [],
   "source": [
    "classes = ['plane', \n",
    "           'car', \n",
    "           'bird', \n",
    "           'cat',\n",
    "           'deer', \n",
    "           'dog', \n",
    "           'frog', \n",
    "           'horse', \n",
    "           'ship', \n",
    "           'truck']"
   ]
  },
  {
   "cell_type": "markdown",
   "metadata": {},
   "source": [
    "This dataset contains natural images. We have a total of 50,000 images available. Elements from the dataset `ds_train` are tuple of the form (image, label). We can access, e.g., the first image via"
   ]
  },
  {
   "cell_type": "code",
   "execution_count": 5,
   "metadata": {},
   "outputs": [],
   "source": [
    "img = ds_train[0][0] # first image in the dataset (a tensor)"
   ]
  },
  {
   "cell_type": "markdown",
   "metadata": {},
   "source": [
    "... and its label via"
   ]
  },
  {
   "cell_type": "code",
   "execution_count": 6,
   "metadata": {},
   "outputs": [
    {
     "name": "stdout",
     "output_type": "stream",
     "text": [
      "6 (frog)\n"
     ]
    }
   ],
   "source": [
    "img_lab = ds_train[0][1] # label of the first image in the dataset\n",
    "print('{} ({})'.format(img_lab, classes[img_lab]))"
   ]
  },
  {
   "cell_type": "code",
   "execution_count": 7,
   "metadata": {},
   "outputs": [],
   "source": [
    "def generate_train_indices(n_splits, train_size, lab):\n",
    "    s = StratifiedShuffleSplit(\n",
    "        n_splits=n_splits, \n",
    "        train_size=train_size, \n",
    "        test_size=None)\n",
    "    \n",
    "    return [i.tolist() for i, _ in s.split(lab, lab)]\n",
    "\n",
    "train_indices = generate_train_indices(10, 500, lab)"
   ]
  },
  {
   "cell_type": "markdown",
   "metadata": {},
   "source": [
    "We can now use `torch.utils.data.dataset.Subset` to create subsets of the original MNIST dataset. Lets do this for the first of the 10 lists."
   ]
  },
  {
   "cell_type": "code",
   "execution_count": 8,
   "metadata": {},
   "outputs": [],
   "source": [
    "ds_train_subset = Subset(ds_train, train_indices[1])"
   ]
  },
  {
   "cell_type": "markdown",
   "metadata": {},
   "source": [
    "We created the indices in such a way that each class is represented in a balanced manner (i.e., stratified). Let's check:"
   ]
  },
  {
   "cell_type": "code",
   "execution_count": 9,
   "metadata": {},
   "outputs": [
    {
     "name": "stdout",
     "output_type": "stream",
     "text": [
      "Counter({2: 50, 3: 50, 8: 50, 6: 50, 9: 50, 0: 50, 4: 50, 7: 50, 1: 50, 5: 50})\n"
     ]
    }
   ],
   "source": [
    "from collections import Counter\n",
    "print(Counter([ds_train_subset[i][1] for i in range(len(ds_train_subset))]))"
   ]
  },
  {
   "cell_type": "code",
   "execution_count": 10,
   "metadata": {},
   "outputs": [
    {
     "data": {
      "image/png": "[encoded data removed]",
      "text/plain": [
       "<Figure size 648x216 with 3 Axes>"
      ]
     },
     "metadata": {},
     "output_type": "display_data"
    }
   ],
   "source": [
    "def show_images(ds: torchvision.datasets.cifar.CIFAR10, \n",
    "                indices: list):\n",
    "    assert len(indices) == 3\n",
    "    assert np.max(indices) < len(ds)\n",
    "    \n",
    "    plt.figure(figsize=(9,3));\n",
    "    for j,idx in enumerate(indices):\n",
    "        plt.subplot(1,3,j+1)\n",
    "        plt.imshow(ds[idx][0].permute(1,2,0).numpy())\n",
    "        plt.title('Label={}'.format(classes[ds[idx][1]]))\n",
    "\n",
    "show_images(ds_train_subset, [1,3,498])"
   ]
  },
  {
   "cell_type": "markdown",
   "metadata": {},
   "source": [
    "Your **first task** is to create a neural network as a class derived from `nn.Module` which implements the following mapping:\n",
    "\n",
    "$$f: \\mathbb{R}^{32 \\cdot 32 \\cdot 3} \\to \\mathbb{R}^{10}$$\n",
    "\n",
    "$$ \\mathbf{x} \\mapsto \\mathbf{A}_2\\text{ReLU}(\\mathbf{A}_1\\mathbf{x})$$\n",
    "\n",
    "with $\\mathbf{A} \\in \\mathbb{R}^{100 \\times 3072}$ and $\\mathbf{A}_2 \\in \\mathbb{R}^{100 \\times 10}$.\n",
    "\n",
    "**Hints**:\n",
    "- Use `nn.ReLU` or implement it yourself with `torch.clamp`\n",
    "- Read the documentation on how to exclude the *bias* terms from the affine maps"
   ]
  },
  {
   "cell_type": "code",
   "execution_count": 12,
   "metadata": {},
   "outputs": [],
   "source": [
    "class NeuralNet(nn.Module):\n",
    "    def __init__(self, input_size, hidden_size, num_classes=10):\n",
    "        # your implementation goes here\n",
    "        pass\n",
    "    def forward(self, x):\n",
    "        # your implementation goes here\n",
    "        pass"
   ]
  },
  {
   "cell_type": "markdown",
   "metadata": {},
   "source": [
    "Your **second task** is to test the network by feeding it (in the appropriate tensor shape) with data from your dataset of 500 \n",
    "training instances.\n",
    "\n",
    "We will do this using PyTorch's dataloader, initialized with `ds_train_subset`."
   ]
  },
  {
   "cell_type": "code",
   "execution_count": null,
   "metadata": {},
   "outputs": [],
   "source": [
    "net = NeuralNet(32*32*3, 100, 10)\n",
    "\n",
    "from torch.utils.data import DataLoader\n",
    "\n",
    "dl = DataLoader(ds_train_subset, \n",
    "                batch_size=16, \n",
    "                shuffle=True)\n",
    "\n",
    "x,y = next(iter(dl))\n",
    "out = net(#your code goes here)\n",
    "print(out.size())"
   ]
  },
  {
   "cell_type": "markdown",
   "metadata": {},
   "source": [
    "Finally, the **third task** is to (1) count the number of *learnable* parametes by hand and (2) to then write a short function to count it."
   ]
  },
  {
   "cell_type": "code",
   "execution_count": 34,
   "metadata": {},
   "outputs": [],
   "source": [
    "def count_params(net):\n",
    "    num_param = 0\n",
    "    # your implementation goes here\n",
    "    return num_param"
   ]
  }
 ],
 "metadata": {
  "kernelspec": {
   "display_name": "Python 3",
   "language": "python",
   "name": "python3"
  },
  "language_info": {
   "codemirror_mode": {
    "name": "ipython",
    "version": 3
   },
   "file_extension": ".py",
   "mimetype": "text/x-python",
   "name": "python",
   "nbconvert_exporter": "python",
   "pygments_lexer": "ipython3",
   "version": "3.6.7"
  }
 },
 "nbformat": 4,
 "nbformat_minor": 2
}
