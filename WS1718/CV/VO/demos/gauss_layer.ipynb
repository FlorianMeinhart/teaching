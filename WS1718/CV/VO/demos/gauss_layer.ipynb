{
 "cells": [
  {
   "cell_type": "code",
   "execution_count": 1,
   "metadata": {
    "collapsed": true
   },
   "outputs": [],
   "source": [
    "import torch\n",
    "import torch.nn as nn\n",
    "from torch.autograd import Variable\n",
    "from torch import optim"
   ]
  },
  {
   "cell_type": "code",
   "execution_count": 3,
   "metadata": {},
   "outputs": [
    {
     "name": "stdout",
     "output_type": "stream",
     "text": [
      "Parameter containing:\n",
      " 0.9397\n",
      "[torch.FloatTensor of size 1]\n",
      "\n"
     ]
    }
   ],
   "source": [
    "# Demonstration of a simple NN layer that implements a Gaussian function\n",
    "class Gaussian(nn.Module):\n",
    "    def __init__(self):\n",
    "        # Call the constructor from the class we derive from\n",
    "        super(Gaussian, self).__init__()\n",
    "        \n",
    "        # Define the parameters of the layer, here a,b,c are just scalars\n",
    "        self.a = nn.Parameter(torch.ones(1))\n",
    "        self.b = nn.Parameter(torch.ones(1))\n",
    "        self.c = nn.Parameter(torch.ones(1))\n",
    "\n",
    "    # Implement a forward pass using the functions provided to us by PyTorch\n",
    "    def forward(self, x):\n",
    "        return self.a * torch.exp((x - self.b)**2 / self.c)\n",
    "\n",
    "# Some testing\n",
    "loss_fn = nn.MSELoss()\n",
    "\n",
    "# Simple NN with just the Gaussian layer\n",
    "module = nn.Sequential(Gaussian())\n",
    "\n",
    "# Setup the optimizer\n",
    "optimizer = torch.optim.SGD(module.parameters(), lr=0.1, momentum=0.9)\n",
    "\n",
    "# Lets say we have, as input, a scalar drawn from a Gaussian\n",
    "x = Variable(torch.randn(1),requires_grad=True)\n",
    "\n",
    "# ... and as target, we have 1\n",
    "t = Variable(torch.ones(1))\n",
    "\n",
    "module.zero_grad()\n",
    "out = module(x)\n",
    "loss = loss_fn(out,t)\n",
    "loss.backward()\n",
    "\n",
    "optimizer.step()\n",
    "print module[0].b"
   ]
  },
  {
   "cell_type": "code",
   "execution_count": null,
   "metadata": {
    "collapsed": true
   },
   "outputs": [],
   "source": []
  }
 ],
 "metadata": {
  "kernelspec": {
   "display_name": "Python 2",
   "language": "python",
   "name": "python2"
  },
  "language_info": {
   "codemirror_mode": {
    "name": "ipython",
    "version": 2
   },
   "file_extension": ".py",
   "mimetype": "text/x-python",
   "name": "python",
   "nbconvert_exporter": "python",
   "pygments_lexer": "ipython2",
   "version": "2.7.13"
  }
 },
 "nbformat": 4,
 "nbformat_minor": 2
}
