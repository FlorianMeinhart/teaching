{
 "cells": [
  {
   "cell_type": "code",
   "execution_count": 2,
   "metadata": {},
   "outputs": [
    {
     "name": "stdout",
     "output_type": "stream",
     "text": [
      "torch.Size([2, 1, 8, 8])\n"
     ]
    },
    {
     "data": {
      "text/plain": [
       "Variable containing:\n",
       " 0.1518\n",
       " 0.1643\n",
       "[torch.FloatTensor of size 2x1]"
      ]
     },
     "execution_count": 2,
     "metadata": {},
     "output_type": "execute_result"
    }
   ],
   "source": [
    "\"\"\"\n",
    "Simple intro. to pytorch's NN layers\n",
    "\"\"\"\n",
    "\n",
    "import torch\n",
    "from torch import nn # Neural network layers\n",
    "from torch.autograd import Variable\n",
    "\n",
    "# create a 2x3x10x10 input, i.e., 3 channels, 10x10 spatial dim. and batch size of 2\n",
    "x = Variable(torch.rand(2,3,10,10))\n",
    "\n",
    "# create a 2D conv. layer with 1 output channel a 3x3 filter size and a shift of 1\n",
    "conv_layer = nn.Conv2d(3,1,3,1)\n",
    "\n",
    "# push input through conv. layer\n",
    "out = conv_layer(x)\n",
    "print out.size()\n",
    "\n",
    "# create a view of the previous output as a 2x64 (64=1x8x8) tensor\n",
    "out = out.view(out.size(0),64)\n",
    "\n",
    "# add a linear layer 64->1 and push data through this\n",
    "fc = nn.Linear(64,1)\n",
    "fc(out)"
   ]
  },
  {
   "cell_type": "code",
   "execution_count": 4,
   "metadata": {},
   "outputs": [
    {
     "name": "stdout",
     "output_type": "stream",
     "text": [
      "torch.Size([1, 3, 5, 5])\n"
     ]
    }
   ],
   "source": [
    "# spatial max. pooling with a square window of size 3x3, shift by stride=2\n",
    "pooling_layer = nn.MaxPool2d(2, stride=2)\n",
    "\n",
    "x = Variable(torch.randn(1, 3, 10, 10))\n",
    "output = pooling_layer(x)\n",
    "print output.size()"
   ]
  },
  {
   "cell_type": "code",
   "execution_count": 7,
   "metadata": {
    "collapsed": true
   },
   "outputs": [],
   "source": [
    "# simple AlexNet (without classifier at end)\n",
    "net = nn.Sequential(\n",
    "            nn.Conv2d(3, 64, kernel_size=11, stride=4, padding=2),\n",
    "            nn.ReLU(inplace=True),\n",
    "            nn.MaxPool2d(kernel_size=3, stride=2),\n",
    "            nn.Conv2d(64, 192, kernel_size=5, padding=2),\n",
    "            nn.ReLU(inplace=True),\n",
    "            nn.MaxPool2d(kernel_size=3, stride=2),\n",
    "            nn.Conv2d(192, 384, kernel_size=3, padding=1),\n",
    "            nn.ReLU(inplace=True),\n",
    "            nn.Conv2d(384, 256, kernel_size=3, padding=1),\n",
    "            nn.ReLU(inplace=True),\n",
    "            nn.Conv2d(256, 256, kernel_size=3, padding=1),\n",
    "            nn.ReLU(inplace=True),\n",
    "            nn.MaxPool2d(kernel_size=3, stride=2))"
   ]
  },
  {
   "cell_type": "code",
   "execution_count": 8,
   "metadata": {},
   "outputs": [
    {
     "name": "stdout",
     "output_type": "stream",
     "text": [
      "torch.Size([10, 256, 3, 3])\n",
      "torch.Size([10, 100])\n"
     ]
    }
   ],
   "source": [
    "# create random input 3x128x128 and a batch size of 10\n",
    "x = Variable(torch.randn(10, 3, 128, 128))\n",
    "# push data through net (forward pass)\n",
    "out = net(x)\n",
    "print out.size()\n",
    "\n",
    "# view output as 10x(256x3x3) tensor and push through a linear layer that\n",
    "# maps the input to 100 outputs\n",
    "out = out.view(out.size(0),256*3*3)\n",
    "lin = nn.Linear(256*3*3,100)\n",
    "print lin(out).size()"
   ]
  },
  {
   "cell_type": "code",
   "execution_count": null,
   "metadata": {
    "collapsed": true
   },
   "outputs": [],
   "source": []
  }
 ],
 "metadata": {
  "kernelspec": {
   "display_name": "Python 2",
   "language": "python",
   "name": "python2"
  },
  "language_info": {
   "codemirror_mode": {
    "name": "ipython",
    "version": 2
   },
   "file_extension": ".py",
   "mimetype": "text/x-python",
   "name": "python",
   "nbconvert_exporter": "python",
   "pygments_lexer": "ipython2",
   "version": "2.7.13"
  }
 },
 "nbformat": 4,
 "nbformat_minor": 2
}
