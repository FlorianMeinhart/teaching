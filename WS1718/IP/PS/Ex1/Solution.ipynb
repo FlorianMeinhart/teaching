{
 "cells": [
  {
   "cell_type": "code",
   "execution_count": 1,
   "metadata": {
    "collapsed": true
   },
   "outputs": [],
   "source": [
    "# Plotting\n",
    "%matplotlib inline\n",
    "import matplotlib\n",
    "import matplotlib.pyplot as plt\n",
    "\n",
    "import numpy as np\n",
    "from skimage import io, color\n",
    "from skimage.util.shape import view_as_blocks"
   ]
  },
  {
   "cell_type": "markdown",
   "metadata": {},
   "source": [
    "# Solution to Ex 1.1\n",
    "---"
   ]
  },
  {
   "cell_type": "code",
   "execution_count": 2,
   "metadata": {
    "collapsed": true
   },
   "outputs": [],
   "source": [
    "#\n",
    "# Ex 1.1\n",
    "#\n",
    "\n",
    "# First way\n",
    "\n",
    "# def avg_H(img_file):\n",
    "#     img_rgb = io.imread(img_file)\n",
    "#     img_hsv = color.rgb2hsv(img_rgb)\n",
    "#     return img_hsv[:,:,0].mean()\n",
    "\n",
    "# Another, possibly \"cooler\" solution\n",
    "avg_H = lambda f: color.rgb2hsv(io.imread(f))[:,:,0].mean()"
   ]
  },
  {
   "cell_type": "code",
   "execution_count": 3,
   "metadata": {},
   "outputs": [
    {
     "name": "stdout",
     "output_type": "stream",
     "text": [
      "Average H value: 0.4088\n"
     ]
    }
   ],
   "source": [
    "print \"Average H value: {:.4f}\".format(avg_H('beach.jpg'))"
   ]
  },
  {
   "cell_type": "markdown",
   "metadata": {},
   "source": [
    "# Solution to Ex 1.2\n",
    "---"
   ]
  },
  {
   "cell_type": "code",
   "execution_count": 13,
   "metadata": {},
   "outputs": [
    {
     "data": {
      "text/plain": [
       "<matplotlib.image.AxesImage at 0x1121abc50>"
      ]
     },
     "execution_count": 13,
     "metadata": {},
     "output_type": "execute_result"
    },
    {
     "data": {
      "image/png": "[encoded data removed]",
      "text/plain": [
       "<matplotlib.figure.Figure at 0x81c74d210>"
      ]
     },
     "metadata": {},
     "output_type": "display_data"
    }
   ],
   "source": [
    "#\n",
    "# Ex 1.2\n",
    "#\n",
    "\n",
    "def avg_H_blocks(img_file, block_size=(4,4)):\n",
    "    img_rgb = io.imread(img_file)\n",
    "\n",
    "    # some initial checks\n",
    "    assert len(block_size) == 2\n",
    "    assert img_rgb.shape[0] % block_size[0] == 0\n",
    "    assert img_rgb.shape[1] % block_size[1] == 0\n",
    "    \n",
    "    # read image and convert to HSV\n",
    "    img_hsv = color.rgb2hsv(img_rgb)  \n",
    "    \n",
    "    # split into non-overlapping blocks\n",
    "    B = view_as_blocks(img_hsv[...,0], block_size)\n",
    "    \n",
    "    # get nr. of blocks in x,y dir.\n",
    "    N, M = B.shape[0], B.shape[1]\n",
    "    \n",
    "#\n",
    "# One way to do it\n",
    "#       \n",
    "#     R = np.zeros((N,M))\n",
    "#     for i in np.arange(N):\n",
    "#         for j in np.arange(M):\n",
    "#             R[i,j] = B[i,j,:,:].mean()\n",
    "\n",
    "#\n",
    "# Another, more pythonic way\n",
    "#\n",
    "#     R = np.zeros((N,M))\n",
    "#     for i,j in np.ndindex(B.shape[0:2]):\n",
    "#         R[i,j] = B[i,j,:,:].mean()    \n",
    "\n",
    "\n",
    "# Even more pythonic\n",
    "#\n",
    "    return np.array([B[i,j,:,:].mean() for i,j in np.ndindex(B.shape[0:2])]).reshape(N,M)\n",
    "    #R = np.array([B[i,j,:,:].mean() for i,j in np.ndindex(B.shape[0:2])]).reshape(N,M)\n",
    "    #return R\n",
    "\n",
    "#import time\n",
    "#t0 = time.time()\n",
    "#R = avg_H_blocks('beach.jpg',(4,4))\n",
    "#ela = time.time()-t0\n",
    "#print \"Elapsed time [s]: {}\".format(ela)\n",
    "#plt.imshow(R, cmap='gray')"
   ]
  },
  {
   "cell_type": "code",
   "execution_count": 11,
   "metadata": {},
   "outputs": [
    {
     "data": {
      "text/plain": [
       "array([[ 0.56391157,  0.56291755,  0.55951675,  0.55952369,  0.54588886,\n",
       "         0.5168129 ,  0.56007321,  0.56161279,  0.55319463,  0.56002712,\n",
       "         0.56320892,  0.56310138,  0.56368949,  0.56460508,  0.56466607,\n",
       "         0.56282305],\n",
       "       [ 0.56652183,  0.56505351,  0.56468518,  0.564791  ,  0.57287688,\n",
       "         0.56423912,  0.5645338 ,  0.563463  ,  0.56416923,  0.56432593,\n",
       "         0.56662819,  0.56506977,  0.56683963,  0.56667783,  0.56823687,\n",
       "         0.56828499],\n",
       "       [ 0.56690388,  0.56542291,  0.56436245,  0.56449907,  0.56385361,\n",
       "         0.56346858,  0.56267491,  0.56270003,  0.56331133,  0.56324173,\n",
       "         0.56301411,  0.56335147,  0.56402378,  0.56394784,  0.5652898 ,\n",
       "         0.56543098],\n",
       "       [ 0.55825189,  0.55694972,  0.55588805,  0.55527437,  0.55423708,\n",
       "         0.5540625 ,  0.55780962,  0.55333864,  0.55404716,  0.55423794,\n",
       "         0.55478999,  0.55522638,  0.55617314,  0.55696799,  0.55859418,\n",
       "         0.55877375],\n",
       "       [ 0.53937693,  0.54402995,  0.54446594,  0.54072181,  0.53444343,\n",
       "         0.53614468,  0.53636757,  0.53437316,  0.53718229,  0.5366324 ,\n",
       "         0.53708254,  0.53880549,  0.53833122,  0.53895705,  0.54035591,\n",
       "         0.54102452],\n",
       "       [ 0.24231253,  0.19666807,  0.18377664,  0.22245895,  0.19119299,\n",
       "         0.21270235,  0.2805125 ,  0.2507869 ,  0.2603043 ,  0.17256413,\n",
       "         0.22142206,  0.17488153,  0.2194945 ,  0.33960176,  0.35484271,\n",
       "         0.39563171],\n",
       "       [ 0.14795764,  0.15477161,  0.15859829,  0.14561277,  0.18524838,\n",
       "         0.2084824 ,  0.2499988 ,  0.49765402,  0.51705825,  0.5326968 ,\n",
       "         0.45851473,  0.383107  ,  0.29987523,  0.31642195,  0.20476212,\n",
       "         0.21632235],\n",
       "       [ 0.47548193,  0.3935439 ,  0.31142086,  0.20925995,  0.20526637,\n",
       "         0.17403243,  0.26428756,  0.34948287,  0.50850317,  0.54623128,\n",
       "         0.54951772,  0.46844876,  0.31542362,  0.56084355,  0.55965804,\n",
       "         0.51687931],\n",
       "       [ 0.55881458,  0.5573648 ,  0.5543521 ,  0.54036254,  0.54339081,\n",
       "         0.49331546,  0.3704702 ,  0.38238453,  0.48746775,  0.55029302,\n",
       "         0.55290665,  0.4700767 ,  0.40897673,  0.4327818 ,  0.34150404,\n",
       "         0.51113609],\n",
       "       [ 0.29238147,  0.30143399,  0.35317028,  0.30596886,  0.27734116,\n",
       "         0.24806703,  0.29504911,  0.39675668,  0.41391403,  0.40147781,\n",
       "         0.41280785,  0.41885206,  0.39445909,  0.34575603,  0.22729287,\n",
       "         0.29032385],\n",
       "       [ 0.16879661,  0.20898023,  0.23087081,  0.24328735,  0.25756541,\n",
       "         0.37882287,  0.43276832,  0.25628789,  0.28332771,  0.33404751,\n",
       "         0.27584442,  0.21939193,  0.32446061,  0.32230116,  0.27344927,\n",
       "         0.26247893],\n",
       "       [ 0.16927906,  0.15463335,  0.16919508,  0.2189031 ,  0.3029675 ,\n",
       "         0.47262255,  0.38985376,  0.28844652,  0.32067562,  0.35901436,\n",
       "         0.35253797,  0.30967989,  0.48118021,  0.40291761,  0.35800392,\n",
       "         0.32204212],\n",
       "       [ 0.19716038,  0.15170158,  0.20866481,  0.23309471,  0.28449481,\n",
       "         0.28260195,  0.34787043,  0.28684211,  0.24990118,  0.27223669,\n",
       "         0.31400825,  0.27821026,  0.4507898 ,  0.30274557,  0.32475407,\n",
       "         0.3481374 ],\n",
       "       [ 0.25288742,  0.36639772,  0.27841768,  0.21236714,  0.20673914,\n",
       "         0.25765079,  0.32713781,  0.32742847,  0.29832825,  0.2672233 ,\n",
       "         0.42428656,  0.53306743,  0.52473365,  0.40946598,  0.47497386,\n",
       "         0.53994126],\n",
       "       [ 0.452046  ,  0.5439684 ,  0.33806935,  0.22892905,  0.19933373,\n",
       "         0.22611367,  0.36762232,  0.4409061 ,  0.32702329,  0.32053771,\n",
       "         0.46039715,  0.47264801,  0.48867435,  0.42056335,  0.45583966,\n",
       "         0.48045212],\n",
       "       [ 0.31067481,  0.45832728,  0.29589746,  0.21103872,  0.22990314,\n",
       "         0.23437483,  0.32244717,  0.40796441,  0.3910983 ,  0.38459958,\n",
       "         0.43790485,  0.47842742,  0.49591356,  0.43180899,  0.48913952,\n",
       "         0.40885009]])"
      ]
     },
     "execution_count": 11,
     "metadata": {},
     "output_type": "execute_result"
    }
   ],
   "source": [
    "R"
   ]
  },
  {
   "cell_type": "code",
   "execution_count": null,
   "metadata": {
    "collapsed": true
   },
   "outputs": [],
   "source": []
  }
 ],
 "metadata": {
  "kernelspec": {
   "display_name": "Python 2",
   "language": "python",
   "name": "python2"
  },
  "language_info": {
   "codemirror_mode": {
    "name": "ipython",
    "version": 2
   },
   "file_extension": ".py",
   "mimetype": "text/x-python",
   "name": "python",
   "nbconvert_exporter": "python",
   "pygments_lexer": "ipython2",
   "version": "2.7.13"
  }
 },
 "nbformat": 4,
 "nbformat_minor": 2
}
