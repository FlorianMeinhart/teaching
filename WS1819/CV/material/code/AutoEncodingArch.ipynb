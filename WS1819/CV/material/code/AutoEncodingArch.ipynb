{
 "cells": [
  {
   "cell_type": "markdown",
   "metadata": {},
   "source": [
    "# Autoencoding architectures"
   ]
  },
  {
   "cell_type": "markdown",
   "metadata": {},
   "source": [
    "In this lecture, we we build our first simple **autoencoder** (for MNIST images), i.e., a popular technique for unsupervised representation learning. Below is a conceptual illustration of the basic architecture."
   ]
  },
  {
   "cell_type": "markdown",
   "metadata": {},
   "source": [
    "![Bottleneck](AutoEncLecture.png \"AutoEncoder\")"
   ]
  },
  {
   "cell_type": "code",
   "execution_count": 77,
   "metadata": {},
   "outputs": [],
   "source": [
    "%matplotlib inline\n",
    "\n",
    "import torch\n",
    "import torch.utils.data\n",
    "\n",
    "from torch import nn\n",
    "from torch import optim\n",
    "from torch.nn import functional as F\n",
    "\n",
    "from torchvision import datasets, transforms\n",
    "from torchvision.utils import save_image\n",
    "from torchvision.utils import make_grid\n",
    "\n",
    "import matplotlib.pyplot as plt\n",
    "import numpy as np\n",
    "\n",
    "device = torch.device(\"cuda\")"
   ]
  },
  {
   "cell_type": "markdown",
   "metadata": {},
   "source": [
    "First, we create our data loaders ..."
   ]
  },
  {
   "cell_type": "code",
   "execution_count": 78,
   "metadata": {},
   "outputs": [],
   "source": [
    "\n",
    "train_loader = torch.utils.data.DataLoader(\n",
    "    datasets.MNIST('data_mnist/', \n",
    "                   train=True, \n",
    "                   download=True,\n",
    "                   transform=transforms.ToTensor()),\n",
    "    batch_size=128, \n",
    "    shuffle=True)\n",
    "\n",
    "test_loader = torch.utils.data.DataLoader(\n",
    "    datasets.MNIST('data_mnist', \n",
    "                   train=False, \n",
    "                   transform=transforms.ToTensor()),\n",
    "    batch_size=128, \n",
    "    shuffle=True)"
   ]
  },
  {
   "cell_type": "markdown",
   "metadata": {},
   "source": [
    "Next, we define our autoencoder model. In particular, inputs will be of size $28 \\times 28$ as our MNIST images are binary images of that spatial size. \n",
    "\n",
    "We will flatten the images and just use linear layers with ReLU activations for now. Later, we will refine this model to implement a *convolutional autoencoder*."
   ]
  },
  {
   "cell_type": "code",
   "execution_count": 87,
   "metadata": {},
   "outputs": [],
   "source": [
    "class AutoEnc(nn.Module):\n",
    "    def __init__(self):\n",
    "        super(AutoEnc, self).__init__()\n",
    "\n",
    "        # Define our linear layers, latent representation dim. is 20 here!\n",
    "        self.fc1  = nn.Linear(784, 400)\n",
    "        self.fc2  = nn.Linear(400, 20)\n",
    "        self.fc3  = nn.Linear(20, 400)\n",
    "        self.fc4  = nn.Linear(400, 784)\n",
    "        \n",
    "    # implement the encoder (Lin.->ReLU->Lin.)\n",
    "    def encode(self, x):\n",
    "        h1 = F.relu(self.fc1(x))\n",
    "        return self.fc2(h1)\n",
    "\n",
    "    # implement the decoder (Lin.->ReLU->Sigmoid)\n",
    "    # we use a sigmoid at the end, as we want outputs in [0,1]\n",
    "    def decode(self, z):\n",
    "        h3 = F.relu(self.fc3(z))\n",
    "        return torch.sigmoid(self.fc4(h3))\n",
    "\n",
    "    # implement the forward pass, i.e., encoder->decoder\n",
    "    def forward(self, x):\n",
    "        z = self.encode(x.view(-1, 784)) # 28*28=784\n",
    "        return z, self.decode(z)"
   ]
  },
  {
   "cell_type": "markdown",
   "metadata": {},
   "source": [
    "We can now instantiate that model, define an optimizer and write our train and test routines."
   ]
  },
  {
   "cell_type": "code",
   "execution_count": 90,
   "metadata": {},
   "outputs": [],
   "source": [
    "model = AutoEnc().to(device)\n",
    "optimizer = optim.Adam(model.parameters(), lr=1e-3)\n",
    "\n",
    "def loss_function(recon_x, x):\n",
    "    \"\"\"\n",
    "    As loss, we use binary cross entropy - remember our inputs are in {0,1}\n",
    "    and the output of the autoencoder model is in [0,1], so this is a valid\n",
    "    choice; reduction='sum' means that the reconstruction loss is not averaged,\n",
    "    but just summed up!\n",
    "    \"\"\"\n",
    "    BCE = F.binary_cross_entropy(recon_x, x.view(-1, 784), reduction='sum')\n",
    "    return BCE\n",
    "\n",
    "\n",
    "def train(epoch):\n",
    "    model.train()\n",
    "    \n",
    "    train_loss = 0\n",
    "    for batch_idx, (data, _) in enumerate(train_loader):\n",
    "        \n",
    "        data = data.to(device)\n",
    "        \n",
    "        # reset gradients to 0\n",
    "        optimizer.zero_grad()\n",
    "        \n",
    "        # forward batch of data through model\n",
    "        _, recon_batch = model(data)\n",
    "        \n",
    "        # compute reconstruction loss\n",
    "        loss = loss_function(recon_batch, data)\n",
    "        \n",
    "        # compute gradients \n",
    "        loss.backward()\n",
    "        \n",
    "        train_loss += loss.item()\n",
    "        \n",
    "        # take an optimizer step\n",
    "        optimizer.step()\n",
    "        \n",
    "        if batch_idx % 100 == 0:\n",
    "            print('Train Epoch: {} [{}/{} ({:.0f}%)]\\tLoss: {:.6f}'.format(\n",
    "                epoch, batch_idx * len(data), len(train_loader.dataset),\n",
    "                100. * batch_idx / len(train_loader),\n",
    "                loss.item() / len(data)))\n",
    "\n",
    "    print('====> Epoch: {} Average loss: {:.4f}'.format(\n",
    "          epoch, train_loss / len(train_loader.dataset)))\n",
    "\n",
    "\n",
    "def test(epoch):\n",
    "    model.eval()\n",
    "    test_loss = 0\n",
    "    with torch.no_grad():\n",
    "        for i, (data, _) in enumerate(test_loader):\n",
    "            data = data.to(device)\n",
    "            _, recon_batch = model(data)\n",
    "            test_loss += loss_function(recon_batch, data).item()\n",
    "\n",
    "    test_loss /= len(test_loader.dataset)\n",
    "    print('====> Test set loss: {:.4f}'.format(test_loss))"
   ]
  },
  {
   "cell_type": "code",
   "execution_count": 91,
   "metadata": {},
   "outputs": [
    {
     "name": "stdout",
     "output_type": "stream",
     "text": [
      "Train Epoch: 1 [0/60000 (0%)]\tLoss: 544.275940\n",
      "Train Epoch: 1 [12800/60000 (21%)]\tLoss: 151.385010\n",
      "Train Epoch: 1 [25600/60000 (43%)]\tLoss: 119.505112\n",
      "Train Epoch: 1 [38400/60000 (64%)]\tLoss: 102.978394\n",
      "Train Epoch: 1 [51200/60000 (85%)]\tLoss: 93.508881\n",
      "====> Epoch: 1 Average loss: 131.6514\n",
      "====> Test set loss: 88.2800\n"
     ]
    }
   ],
   "source": [
    "n_epochs = 1\n",
    "for epoch in range(1, n_epochs+1):\n",
    "    train(epoch)\n",
    "    test(epoch)"
   ]
  },
  {
   "cell_type": "markdown",
   "metadata": {},
   "source": [
    "Visualize original data and reconstructions ..."
   ]
  },
  {
   "cell_type": "code",
   "execution_count": 96,
   "metadata": {},
   "outputs": [
    {
     "name": "stdout",
     "output_type": "stream",
     "text": [
      "torch.Size([128, 20])\n"
     ]
    }
   ],
   "source": [
    "B = next(iter(test_loader))[0].to(device)\n",
    "z, recon = model(B)\n",
    "print(z.size())"
   ]
  },
  {
   "cell_type": "code",
   "execution_count": 86,
   "metadata": {},
   "outputs": [
    {
     "data": {
      "image/png": "[encoded data removed]",
      "text/plain": [
       "<Figure size 432x288 with 1 Axes>"
      ]
     },
     "metadata": {},
     "output_type": "display_data"
    },
    {
     "data": {
      "image/png": "[encoded data removed]",
      "text/plain": [
       "<Figure size 432x288 with 1 Axes>"
      ]
     },
     "metadata": {},
     "output_type": "display_data"
    }
   ],
   "source": [
    "def show(img):\n",
    "    npimg = img.numpy()\n",
    "    plt.imshow(np.transpose(npimg, (1,2,0)), interpolation='nearest')\n",
    "\n",
    "B = next(iter(test_loader))[0].to(device)\n",
    "R = model(B)\n",
    "plt.figure()\n",
    "show(make_grid(B[0:10,:,:,:].cpu(), padding=1))  \n",
    "plt.figure()\n",
    "show(make_grid(R.view((128,1,28,28))[0:10,:,:,:].detach().cpu(), padding=1))     "
   ]
  },
  {
   "cell_type": "code",
   "execution_count": null,
   "metadata": {},
   "outputs": [],
   "source": []
  }
 ],
 "metadata": {
  "kernelspec": {
   "display_name": "Python 3",
   "language": "python",
   "name": "python3"
  },
  "language_info": {
   "codemirror_mode": {
    "name": "ipython",
    "version": 3
   },
   "file_extension": ".py",
   "mimetype": "text/x-python",
   "name": "python",
   "nbconvert_exporter": "python",
   "pygments_lexer": "ipython3",
   "version": "3.6.5"
  }
 },
 "nbformat": 4,
 "nbformat_minor": 2
}
