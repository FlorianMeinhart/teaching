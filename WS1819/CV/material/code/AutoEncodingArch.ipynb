{
 "cells": [
  {
   "cell_type": "markdown",
   "metadata": {},
   "source": [
    "# AutoEncoders\n",
    "\n",
    "Roland Kwitt     \n",
    "University of Salzburg (2019)\n",
    "\n",
    "---"
   ]
  },
  {
   "cell_type": "markdown",
   "metadata": {},
   "source": [
    "In this lecture, we we build our first simple **autoencoder** (for MNIST images), i.e., a popular technique for unsupervised representation learning, implementing a mapping\n",
    "\n",
    "$$ f_{\\theta} \\circ g_{\\phi}: \\mathbb{R}^d \\to \\mathbb{R}^d$$\n",
    "\n",
    "Here, we refer to $g_{\\phi}: \\mathbb{R}^d \\to Z$ as an *encoder* and to $f_{\\theta}: \\mathbb{R}^l \\to Z$ as a *decoder*. In general, we have $Z \\subset \\mathbb{R}^l$ and we\n",
    "call $Z$ the *representation space* (or *latent* space).\n",
    "\n",
    "In general, we train autoencoders to *reconstruct* the input, e.g., by measuring the mean-squared error of the difference between the input and the output. There is no supervisory signal as in supervised learning (e.g., the class labels). \n",
    "\n",
    "Below is a conceptual illustration of the basic architecture."
   ]
  },
  {
   "cell_type": "markdown",
   "metadata": {},
   "source": [
    "![Bottleneck](AutoEncLecture.png \"AutoEncoder\")"
   ]
  },
  {
   "cell_type": "code",
   "execution_count": 1,
   "metadata": {},
   "outputs": [],
   "source": [
    "%matplotlib inline\n",
    "\n",
    "import torch\n",
    "import torch.utils.data\n",
    "\n",
    "from torch import nn\n",
    "from torch import optim\n",
    "from torch.nn import functional as F\n",
    "\n",
    "from torchvision import datasets, transforms\n",
    "from torchvision.utils import save_image\n",
    "from torchvision.utils import make_grid\n",
    "\n",
    "import matplotlib.pyplot as plt\n",
    "import numpy as np\n",
    "\n",
    "device = torch.device(\"cpu\")"
   ]
  },
  {
   "cell_type": "markdown",
   "metadata": {},
   "source": [
    "First, we create our data loaders ..."
   ]
  },
  {
   "cell_type": "code",
   "execution_count": 3,
   "metadata": {},
   "outputs": [],
   "source": [
    "\n",
    "train_loader = torch.utils.data.DataLoader(\n",
    "    datasets.MNIST('data_mnist/', \n",
    "                   train=True, \n",
    "                   download=True,\n",
    "                   transform=transforms.ToTensor()),\n",
    "    batch_size=128, \n",
    "    shuffle=True)\n",
    "\n",
    "test_loader = torch.utils.data.DataLoader(\n",
    "    datasets.MNIST('data_mnist', \n",
    "                   train=False, \n",
    "                   transform=transforms.ToTensor()),\n",
    "    batch_size=128, \n",
    "    shuffle=True)"
   ]
  },
  {
   "cell_type": "markdown",
   "metadata": {},
   "source": [
    "Next, we define our autoencoder model. In particular, inputs will be of size $28 \\times 28$ as our MNIST images are binary images of that spatial size. \n",
    "\n",
    "We will flatten the images and just use linear layers with ReLU activations for now. Later, we will refine this model to implement a *convolutional autoencoder*."
   ]
  },
  {
   "cell_type": "code",
   "execution_count": 25,
   "metadata": {},
   "outputs": [],
   "source": [
    "class AutoEnc(nn.Module):\n",
    "    def __init__(self):\n",
    "        super(AutoEnc, self).__init__()\n",
    "\n",
    "        # Define our linear layers, latent representation dim. is 20 here!\n",
    "        self.fc1  = nn.Linear(784, 400)\n",
    "        self.fc2  = nn.Linear(400, 2)\n",
    "        self.fc3  = nn.Linear(2, 400)\n",
    "        self.fc4  = nn.Linear(400, 784)\n",
    "        \n",
    "    # implement the encoder (Lin.->ReLU->Lin.)\n",
    "    def encode(self, x):\n",
    "        h1 = F.relu(self.fc1(x))\n",
    "        return self.fc2(h1)\n",
    "\n",
    "    # implement the decoder (Lin.->ReLU->Sigmoid)\n",
    "    # we use a sigmoid at the end, as we want outputs in [0,1]\n",
    "    def decode(self, z):\n",
    "        h3 = F.relu(self.fc3(z))\n",
    "        return torch.sigmoid(self.fc4(h3))\n",
    "\n",
    "    # implement the forward pass, i.e., encoder->decoder\n",
    "    def forward(self, x):\n",
    "        z = self.encode(x.view(-1, 784)) # 28*28=784\n",
    "        return z, self.decode(z)"
   ]
  },
  {
   "cell_type": "markdown",
   "metadata": {},
   "source": [
    "We can now instantiate that model, define an optimizer and write our train and test routines."
   ]
  },
  {
   "cell_type": "code",
   "execution_count": 30,
   "metadata": {},
   "outputs": [],
   "source": [
    "model = AutoEnc().to(device)\n",
    "optimizer = optim.Adam(model.parameters(), lr=1e-3)\n",
    "\n",
    "def loss_function(recon_x, x):\n",
    "    \"\"\"\n",
    "    As loss, we use binary cross entropy - remember our inputs are in {0,1}\n",
    "    and the output of the autoencoder model is in [0,1], so this is a valid\n",
    "    choice; reduction='sum' means that the reconstruction loss is not averaged,\n",
    "    but just summed up!\n",
    "    \"\"\"\n",
    "    BCE = F.binary_cross_entropy(recon_x, x.view(-1, 784), reduction='sum')\n",
    "    return BCE\n",
    "\n",
    "\n",
    "def train(epoch):\n",
    "    model.train()\n",
    "    \n",
    "    train_loss = 0\n",
    "    for batch_idx, (data, _) in enumerate(train_loader):\n",
    "        \n",
    "        data = data.to(device)\n",
    "        \n",
    "        # reset gradients to 0\n",
    "        optimizer.zero_grad()\n",
    "        \n",
    "        # forward batch of data through model\n",
    "        _, recon_batch = model(data)\n",
    "        \n",
    "        # compute reconstruction loss\n",
    "        loss = loss_function(recon_batch, data)\n",
    "        \n",
    "        # compute gradients \n",
    "        loss.backward()\n",
    "        \n",
    "        train_loss += loss.item()\n",
    "        \n",
    "        # take an optimizer step\n",
    "        optimizer.step()\n",
    "        \n",
    "        if batch_idx % 100 == 0:\n",
    "            print('Train Epoch: {} [{}/{} ({:.0f}%)]\\tLoss: {:.6f}'.format(\n",
    "                epoch, batch_idx * len(data), len(train_loader.dataset),\n",
    "                100. * batch_idx / len(train_loader),\n",
    "                loss.item() / len(data)))\n",
    "\n",
    "    print('====> Epoch: {} Average loss: {:.4f}'.format(\n",
    "          epoch, train_loss / len(train_loader.dataset)))\n",
    "\n",
    "\n",
    "def test(epoch):\n",
    "    model.eval()\n",
    "    test_loss = 0\n",
    "    with torch.no_grad():\n",
    "        for i, (data, _) in enumerate(test_loader):\n",
    "            data = data.to(device)\n",
    "            _, recon_batch = model(data)\n",
    "            test_loss += loss_function(recon_batch, data).item()\n",
    "\n",
    "    test_loss /= len(test_loader.dataset)\n",
    "    print('====> Test set loss: {:.4f}'.format(test_loss))"
   ]
  },
  {
   "cell_type": "code",
   "execution_count": 31,
   "metadata": {},
   "outputs": [
    {
     "name": "stdout",
     "output_type": "stream",
     "text": [
      "Train Epoch: 1 [0/60000 (0%)]\tLoss: 542.309692\n",
      "Train Epoch: 1 [12800/60000 (21%)]\tLoss: 188.858521\n",
      "Train Epoch: 1 [25600/60000 (43%)]\tLoss: 175.405502\n",
      "Train Epoch: 1 [38400/60000 (64%)]\tLoss: 176.853622\n",
      "Train Epoch: 1 [51200/60000 (85%)]\tLoss: 171.609360\n",
      "====> Epoch: 1 Average loss: 183.5364\n",
      "====> Test set loss: 164.3283\n",
      "Train Epoch: 2 [0/60000 (0%)]\tLoss: 162.971649\n",
      "Train Epoch: 2 [12800/60000 (21%)]\tLoss: 159.233353\n",
      "Train Epoch: 2 [25600/60000 (43%)]\tLoss: 154.586105\n",
      "Train Epoch: 2 [38400/60000 (64%)]\tLoss: 160.844452\n",
      "Train Epoch: 2 [51200/60000 (85%)]\tLoss: 158.559753\n",
      "====> Epoch: 2 Average loss: 159.4227\n",
      "====> Test set loss: 156.0015\n",
      "Train Epoch: 3 [0/60000 (0%)]\tLoss: 154.542755\n",
      "Train Epoch: 3 [12800/60000 (21%)]\tLoss: 154.014038\n",
      "Train Epoch: 3 [25600/60000 (43%)]\tLoss: 157.151993\n",
      "Train Epoch: 3 [38400/60000 (64%)]\tLoss: 150.860352\n",
      "Train Epoch: 3 [51200/60000 (85%)]\tLoss: 154.097153\n",
      "====> Epoch: 3 Average loss: 154.1251\n",
      "====> Test set loss: 152.5646\n",
      "Train Epoch: 4 [0/60000 (0%)]\tLoss: 158.034134\n",
      "Train Epoch: 4 [12800/60000 (21%)]\tLoss: 156.982513\n",
      "Train Epoch: 4 [25600/60000 (43%)]\tLoss: 143.566849\n",
      "Train Epoch: 4 [38400/60000 (64%)]\tLoss: 152.811066\n",
      "Train Epoch: 4 [51200/60000 (85%)]\tLoss: 140.487595\n",
      "====> Epoch: 4 Average loss: 151.3572\n",
      "====> Test set loss: 150.3339\n",
      "Train Epoch: 5 [0/60000 (0%)]\tLoss: 142.721512\n",
      "Train Epoch: 5 [12800/60000 (21%)]\tLoss: 146.848373\n",
      "Train Epoch: 5 [25600/60000 (43%)]\tLoss: 152.359100\n",
      "Train Epoch: 5 [38400/60000 (64%)]\tLoss: 152.147919\n",
      "Train Epoch: 5 [51200/60000 (85%)]\tLoss: 149.436691\n",
      "====> Epoch: 5 Average loss: 149.4788\n",
      "====> Test set loss: 149.0856\n",
      "Train Epoch: 6 [0/60000 (0%)]\tLoss: 145.524185\n",
      "Train Epoch: 6 [12800/60000 (21%)]\tLoss: 143.389450\n",
      "Train Epoch: 6 [25600/60000 (43%)]\tLoss: 150.691223\n",
      "Train Epoch: 6 [38400/60000 (64%)]\tLoss: 140.165787\n",
      "Train Epoch: 6 [51200/60000 (85%)]\tLoss: 144.887146\n",
      "====> Epoch: 6 Average loss: 148.0423\n",
      "====> Test set loss: 147.7187\n",
      "Train Epoch: 7 [0/60000 (0%)]\tLoss: 147.560776\n",
      "Train Epoch: 7 [12800/60000 (21%)]\tLoss: 140.344482\n",
      "Train Epoch: 7 [25600/60000 (43%)]\tLoss: 150.007660\n",
      "Train Epoch: 7 [38400/60000 (64%)]\tLoss: 149.435516\n",
      "Train Epoch: 7 [51200/60000 (85%)]\tLoss: 147.197952\n",
      "====> Epoch: 7 Average loss: 146.9728\n",
      "====> Test set loss: 146.9183\n",
      "Train Epoch: 8 [0/60000 (0%)]\tLoss: 143.665054\n",
      "Train Epoch: 8 [12800/60000 (21%)]\tLoss: 148.347336\n",
      "Train Epoch: 8 [25600/60000 (43%)]\tLoss: 148.337738\n",
      "Train Epoch: 8 [38400/60000 (64%)]\tLoss: 146.597778\n",
      "Train Epoch: 8 [51200/60000 (85%)]\tLoss: 137.812607\n",
      "====> Epoch: 8 Average loss: 146.0964\n",
      "====> Test set loss: 146.2727\n",
      "Train Epoch: 9 [0/60000 (0%)]\tLoss: 144.812744\n",
      "Train Epoch: 9 [12800/60000 (21%)]\tLoss: 142.677338\n",
      "Train Epoch: 9 [25600/60000 (43%)]\tLoss: 140.041519\n",
      "Train Epoch: 9 [38400/60000 (64%)]\tLoss: 145.158539\n",
      "Train Epoch: 9 [51200/60000 (85%)]\tLoss: 147.733215\n",
      "====> Epoch: 9 Average loss: 145.3695\n",
      "====> Test set loss: 145.9048\n",
      "Train Epoch: 10 [0/60000 (0%)]\tLoss: 141.954269\n",
      "Train Epoch: 10 [12800/60000 (21%)]\tLoss: 147.823624\n",
      "Train Epoch: 10 [25600/60000 (43%)]\tLoss: 143.689484\n",
      "Train Epoch: 10 [38400/60000 (64%)]\tLoss: 140.944916\n",
      "Train Epoch: 10 [51200/60000 (85%)]\tLoss: 158.057892\n",
      "====> Epoch: 10 Average loss: 144.6891\n",
      "====> Test set loss: 145.2979\n"
     ]
    }
   ],
   "source": [
    "n_epochs = 10\n",
    "for epoch in range(1, n_epochs+1):\n",
    "    train(epoch)\n",
    "    test(epoch)"
   ]
  },
  {
   "cell_type": "markdown",
   "metadata": {},
   "source": [
    "Visualize original data and reconstructions ..."
   ]
  },
  {
   "cell_type": "code",
   "execution_count": 32,
   "metadata": {},
   "outputs": [
    {
     "name": "stdout",
     "output_type": "stream",
     "text": [
      "torch.Size([128, 2])\n"
     ]
    }
   ],
   "source": [
    "B = next(iter(test_loader))[0].to(device)\n",
    "z, recon = model(B)\n",
    "print(z.size())"
   ]
  },
  {
   "cell_type": "code",
   "execution_count": 33,
   "metadata": {},
   "outputs": [
    {
     "data": {
      "text/plain": [
       "Text(0.5, 1.0, 'Reconstructions (on testing data)')"
      ]
     },
     "execution_count": 33,
     "metadata": {},
     "output_type": "execute_result"
    },
    {
     "data": {
      "image/png": "[encoded data removed]",
      "text/plain": [
       "<Figure size 720x360 with 1 Axes>"
      ]
     },
     "metadata": {
      "needs_background": "light"
     },
     "output_type": "display_data"
    },
    {
     "data": {
      "image/png": "[encoded data removed]",
      "text/plain": [
       "<Figure size 720x360 with 1 Axes>"
      ]
     },
     "metadata": {
      "needs_background": "light"
     },
     "output_type": "display_data"
    }
   ],
   "source": [
    "def show(img):\n",
    "    npimg = img.numpy()\n",
    "    plt.imshow(np.transpose(npimg, (1,2,0)), interpolation='nearest')\n",
    "\n",
    "B = next(iter(test_loader))[0].to(device)\n",
    "z, R = model(B)\n",
    "\n",
    "plt.figure(figsize=(10,5))\n",
    "show(make_grid(B[0:10,:,:,:].cpu(), padding=1))  \n",
    "plt.title('Original (testing data)');\n",
    "\n",
    "plt.figure(figsize=(10,5))\n",
    "show(make_grid(R.view((128,1,28,28))[0:10,:,:,:].detach().cpu(), padding=1))     \n",
    "plt.title('Reconstructions (on testing data)')"
   ]
  },
  {
   "cell_type": "code",
   "execution_count": 36,
   "metadata": {},
   "outputs": [],
   "source": [
    "latents = []\n",
    "model.eval()\n",
    "for x, y in test_loader:\n",
    "    with torch.no_grad():\n",
    "        z, R = model(x)\n",
    "        latents.append(z.detach().numpy())"
   ]
  },
  {
   "cell_type": "code",
   "execution_count": 39,
   "metadata": {},
   "outputs": [],
   "source": [
    "X = torch.tensor(np.concatenate(latents),dtype=torch.float32)"
   ]
  },
  {
   "cell_type": "code",
   "execution_count": 43,
   "metadata": {},
   "outputs": [
    {
     "data": {
      "text/plain": [
       "[<matplotlib.lines.Line2D at 0x122b0add8>]"
      ]
     },
     "execution_count": 43,
     "metadata": {},
     "output_type": "execute_result"
    },
    {
     "data": {
      "image/png": "[encoded data removed]",
      "text/plain": [
       "<Figure size 432x288 with 1 Axes>"
      ]
     },
     "metadata": {
      "needs_background": "light"
     },
     "output_type": "display_data"
    }
   ],
   "source": [
    "plt.plot(X[:,0].numpy(), X[:,1].numpy(),'r.')"
   ]
  }
 ],
 "metadata": {
  "kernelspec": {
   "display_name": "Python 3",
   "language": "python",
   "name": "python3"
  },
  "language_info": {
   "codemirror_mode": {
    "name": "ipython",
    "version": 3
   },
   "file_extension": ".py",
   "mimetype": "text/x-python",
   "name": "python",
   "nbconvert_exporter": "python",
   "pygments_lexer": "ipython3",
   "version": "3.7.3"
  }
 },
 "nbformat": 4,
 "nbformat_minor": 2
}
