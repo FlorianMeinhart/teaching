{
 "cells": [
  {
   "cell_type": "markdown",
   "metadata": {},
   "source": [
    "# Logistic Regression (in 1D)\n",
    "\n",
    "**Topics**:\n",
    "- Gradient-based learning\n",
    "- Regularization\n",
    "- Stochastic gradient descent (SGD)\n",
    "- Backpropagation"
   ]
  },
  {
   "cell_type": "code",
   "execution_count": 1,
   "metadata": {},
   "outputs": [],
   "source": [
    "import torch\n",
    "import torch.nn.functional as F\n",
    "import matplotlib.pyplot as plt\n",
    "import numpy as np"
   ]
  },
  {
   "cell_type": "markdown",
   "metadata": {},
   "source": [
    "## Logistic regression"
   ]
  },
  {
   "cell_type": "markdown",
   "metadata": {},
   "source": [
    "Logistic regression is a **binary classifier**. We model the conditional probability of label $1$ under $x$ as the output of a sigmoid function that receives, as input, the distance of a point to a separating hyperplane, parameterized by $w$ and $b$. Formally, \n",
    "\n",
    "$$P(y=1|x) = sigm(\\langle w,x \\rangle + b),$$\n",
    "\n",
    "where \n",
    "\n",
    "$$sigm(x) = \\frac{1}{1+e^{-x}}\\enspace.$$\n",
    "\n",
    "is the **sigmoid** function. So, for $x=0$, the sigmoid returns 0.5. If interpreted as the probability of class label 1 given $x$, this means that the classifier would be undecided (i.e., random guessing if $x$ should have label 0 or 1)."
   ]
  },
  {
   "cell_type": "code",
   "execution_count": 2,
   "metadata": {},
   "outputs": [
    {
     "name": "stdout",
     "output_type": "stream",
     "text": [
      "sigm(0)=0.5\n"
     ]
    }
   ],
   "source": [
    "print('sigm(0)={}'.format(F.sigmoid(torch.Tensor([0])).item()))"
   ]
  },
  {
   "cell_type": "markdown",
   "metadata": {},
   "source": [
    "So, in 1D, we have\n",
    "\n",
    "$$P(y=1|x) = \\frac{1}{1+e^{(-wx+b)}}$$"
   ]
  },
  {
   "cell_type": "markdown",
   "metadata": {},
   "source": [
    "Our labels are in $\\{0,1\\}$. Our data points $x$ in $\\mathbb{R}$. If we want to fit our model to a training set of $N$ points $(x_i,y_i)$, we need a way to measure the quality of the fit. However, our targets are binary variables (i.e., class labels, either $0$ or $1$); so, taking the mean-squared error is not a good choice. \n",
    "\n",
    "We can, however, decide to model $P(y|x)$ as a **Bernoulli random variabe**, where the probability of event $1$ is given by the sigmoid function. Assuming all $x_i$ are **independent and identically (iid)** distributed, we can write\n",
    "\n",
    "$$ p((y_1,\\ldots,y_n)|X=(x_1,\\ldots,x_n)) = \\prod_i \\left( \\frac{1}{1+\\exp^{-(wx_i+b)}} \\right)^{y_i} \n",
    "\\left(1-\\frac{1}{1+\\exp^{-(wx_i+b)}} \\right)^{1-y_i}$$"
   ]
  },
  {
   "cell_type": "markdown",
   "metadata": {},
   "source": [
    "## Objective"
   ]
  },
  {
   "cell_type": "markdown",
   "metadata": {},
   "source": [
    "Now, our goal is to choose $(w,b)$ such that this likelihood is **maximized**. We also switch to log-space for numerical stability and get\n",
    "\n",
    "$$J(\\theta) := p((y_1,\\ldots,y_n)|X=(x_1,\\ldots,x_n)) = \\sum_i y_i \\log(\\pi_i) + (1-y_i)\\log(1-\\pi_i)$$\n",
    "\n",
    "where the $\\pi_i$'s are given by\n",
    "\n",
    "$$ \\pi_i =  \\frac{1}{1+\\exp^{-(wx+b)}}$$\n",
    "\n",
    "#### Taking the gradient w.r.t. parameters\n",
    "\n",
    "Since the derivative of a sum is the sum of the derivatives, we just look at one term in the summation first and take the derivative w.r.t. $\\theta_j$, i.e., the $j$-th element of the paramter vector.\n",
    "\n",
    "\n",
    "$$ \\frac{\\partial J(\\theta)}{\\partial \\theta_j} = \\frac{y}{sigm(\\theta^\\top x)}\\frac{\\partial}{\\partial \\theta_j}sigm(\\theta^\\top x) + \\frac{1-y}{1-sigm(\\theta^\\top x)}\\frac{\\partial}{\\partial \\theta_j}sigm(\\theta^\\top x) $$\n",
    "\n",
    "Collecting terms gives\n",
    "\n",
    "$$ \\frac{\\partial J(\\theta)}{\\partial \\theta_j} = \\left[\\frac{y}{sigm(\\theta^\\top x)}-\\frac{1-y}{1-sigm(\\theta^\\top x)}\\right]\\frac{\\partial}{\\partial \\theta_j}sigm(\\theta^\\top x)$$\n",
    "\n",
    "Now, take the derivative of the sigmoid function w.r.t. $\\theta_j$, i.e.,\n",
    "\n",
    "$$ \\frac{\\partial J(\\theta)}{\\partial \\theta_j} = \\left[\\frac{y}{sigm(\\theta^\\top x)}-\\frac{1-y}{1-sigm(\\theta^\\top x)}\\right]sigm(\\theta^\\top x)[1-sigm(\\theta^\\top x)]x^{(j)}$$\n",
    "\n",
    "where $x^{(j)}$ is the $j$-th element of $x$. Finally, after collecting terms and simplification, we get\n",
    "\n",
    "$$ \\frac{\\partial J(\\theta)}{\\partial \\theta_j} = [y-sigm(\\theta^\\top x)]x^{(j)}  $$\n",
    "\n",
    "That is the derivative of the cost function w.r.t. the $j$-th parameter.  Taking the sum into account again, we obtain\n",
    "\n",
    "$$ \\frac{\\partial J(\\theta)}{\\partial \\theta_j} = \\sum_i [y_i-sigm(\\theta^\\top x_i)]x_i^{(j)}  $$\n",
    "\n",
    "#### Optimization\n",
    "\n",
    "Since we want to **maximize** the cost, we walk into the direction of the gradient in *small* steps (controlled by $\\alpha$, aka the **learning rate** in deep learning lingo). This strategy is called **gradient ascent**. \n",
    "\n",
    "Alternatively, we could have taken the negative log-likelihood as our cost. Hence, we would walk into the direction of the negative gradient and obtain a **gradient descent** optimization approach. Let's do the latter, as this is more common in practice.\n",
    "\n",
    "In case of minimizing the negative log-likelihood, we have\n",
    "\n",
    "$$ \\frac{\\partial J(\\theta)}{\\partial \\theta_j} = [sigm(\\theta^\\top x)-y]x^{(j)}  $$\n",
    "\n",
    "Consequently, our parameter update rule is\n",
    "\n",
    "$$ \\theta_j^{k+1} = \\theta_j^{k} - \\alpha \\frac{\\partial J(\\theta^k)}{\\partial \\theta_j^{k}}$$\n"
   ]
  },
  {
   "cell_type": "markdown",
   "metadata": {},
   "source": [
    "#### Toy Example "
   ]
  },
  {
   "cell_type": "code",
   "execution_count": 3,
   "metadata": {},
   "outputs": [
    {
     "data": {
      "text/plain": [
       "[<matplotlib.lines.Line2D at 0x116868550>]"
      ]
     },
     "execution_count": 3,
     "metadata": {},
     "output_type": "execute_result"
    },
    {
     "data": {
      "image/png": "[encoded data removed]",
      "text/plain": [
       "<Figure size 360x216 with 1 Axes>"
      ]
     },
     "metadata": {},
     "output_type": "display_data"
    }
   ],
   "source": [
    "import math\n",
    "\n",
    "# True paramters\n",
    "w_true = +1\n",
    "b_true = 0 # for simplicity\n",
    "\n",
    "# Get x values linearly spaced in [-4,4]\n",
    "x = np.linspace(-4,4,100)\n",
    "\n",
    "# Compute <w, x> + b\n",
    "y = (w_true*x + b_true)\n",
    "\n",
    "# Define the sigmoid function\n",
    "sigm = lambda x: 1/(1+math.exp(-x))\n",
    "\n",
    "# Map all values of y to sigm(y)\n",
    "y = np.array(list(map(sigm, y)))\n",
    "\n",
    "# Create a 0/1 labels by setting all values in y>=0.5 to 1, others to 0\n",
    "z = np.array(list(map(lambda y: 1 if y>=0.5 else 0, y)))\n",
    "\n",
    "plt.figure(figsize=(5,3))\n",
    "plt.plot(x,y)  \n",
    "plt.plot(x,z,'r.')"
   ]
  },
  {
   "cell_type": "markdown",
   "metadata": {},
   "source": [
    "## Using sklearn's logistic regression"
   ]
  },
  {
   "cell_type": "code",
   "execution_count": 4,
   "metadata": {},
   "outputs": [
    {
     "data": {
      "image/png": "[encoded data removed]",
      "text/plain": [
       "<Figure size 360x216 with 1 Axes>"
      ]
     },
     "metadata": {},
     "output_type": "display_data"
    }
   ],
   "source": [
    "from sklearn.linear_model import LogisticRegression\n",
    "lr = LogisticRegression() # default paramters\n",
    "lr.fit(x.reshape(-1,1),z)\n",
    "\n",
    "x = np.linspace(-4,4,100)\n",
    "y = (lr.coef_[0]*x + 0)\n",
    "y = np.array(list(map(lambda x: 1/(1+math.exp(-x)), y)))\n",
    "\n",
    "plt.figure(figsize=(5,3))\n",
    "plt.plot(x,y)\n",
    "plt.plot(x,z,'r.')\n",
    "plt.title('sklearn LR, w={:.2f}'.format(lr.coef_[0][0]));"
   ]
  },
  {
   "cell_type": "markdown",
   "metadata": {},
   "source": [
    "## Using our own optimziation routine"
   ]
  },
  {
   "cell_type": "markdown",
   "metadata": {},
   "source": [
    "Lets implement the **gradient decent routine**."
   ]
  },
  {
   "cell_type": "code",
   "execution_count": 5,
   "metadata": {},
   "outputs": [
    {
     "name": "stdout",
     "output_type": "stream",
     "text": [
      "5.350688453429106\n"
     ]
    }
   ],
   "source": [
    "w_cur     = 0.1 # initial estimate of w\n",
    "alpha     = 0.5 # step_size for gradient descent\n",
    "\n",
    "for n in range(500): # update 500-times\n",
    "    t0 = [v*(sigm(w_cur*v)-y) for v,y in zip(x,z)]\n",
    "    grad = np.mean(np.array(t0)) \n",
    "    w_new = w_cur - alpha*grad\n",
    "    w_cur = w_new\n",
    "print(w_cur)"
   ]
  },
  {
   "cell_type": "markdown",
   "metadata": {},
   "source": [
    "*What happend here?* $w$ is way to large. Effectively, we have totally **overfit** to the data. How do we counteract this? This is called **regularization** and one way to achieve this is to penalize large weights. E.g., by adding \n",
    "\n",
    "$$ R[w] = \\frac{\\lambda}{2} w^2 $$\n",
    "\n",
    "to our objective, i.e., $J(\\theta) + R[\\theta]$. \n",
    "\n",
    "This is the 1-D variant of a so called **Tikhonov regularizer**. In general, for vector-valued $w$, we would have \n",
    "\n",
    "$$ R[w] = \\frac{\\lambda}{2} \\| w \\|^2$$\n",
    "\n",
    "In the 1-D variant, the gradient is simply $\\lambda w$. Lets try this. By the way, adding the regularizer now has a name: **regularized logistic regression** (what a surprise)."
   ]
  },
  {
   "cell_type": "code",
   "execution_count": 6,
   "metadata": {},
   "outputs": [
    {
     "name": "stdout",
     "output_type": "stream",
     "text": [
      "2.7308529228633827\n"
     ]
    }
   ],
   "source": [
    "w_cur     = 0.1\n",
    "alpha     = 0.5 \n",
    "lam       = 0.01 # how much do we want to penalize\n",
    "\n",
    "for n in range(500):\n",
    "    # same as above\n",
    "    t0 = [v*(sigm(w_cur*v)-y) for v,y in zip(x,z)]\n",
    "    # now we add the gradient of the regularizer\n",
    "    grad = np.mean(np.array(t0)) + lam*w_cur\n",
    "    w_new = w_cur - alpha*grad\n",
    "    w_cur = w_new\n",
    "print(w_cur)"
   ]
  },
  {
   "cell_type": "markdown",
   "metadata": {},
   "source": [
    "Play around with this and you will see that the more you penalize (i.e., the more $\\lambda$ grows), it will hold back the optimization from increasing $w$."
   ]
  },
  {
   "cell_type": "markdown",
   "metadata": {},
   "source": [
    "**Note**: In machine learning, our objective $-J(\\theta)$ is called the **binary cross entropy** loss. \"Binary\" because we have two classes and \"cross entropy\" because, \n",
    "we effectively measure the cross entropy between target and output."
   ]
  },
  {
   "cell_type": "markdown",
   "metadata": {},
   "source": [
    "## Logistic regression as a neural network\n",
    "\n",
    "We can also write the logistic regression model as a simple neural network. For that purpose, we create a Python class that derives from PyTorch's `torch.nn.Module`. The great thing is that we will not have to care about the gradients anymore, as this will be computed for us automatically (aka. automatic differentiation, aka autograd :)."
   ]
  },
  {
   "cell_type": "markdown",
   "metadata": {},
   "source": [
    "### Data loading"
   ]
  },
  {
   "cell_type": "markdown",
   "metadata": {},
   "source": [
    "### Model definition"
   ]
  },
  {
   "cell_type": "code",
   "execution_count": 7,
   "metadata": {},
   "outputs": [],
   "source": [
    "class Model(torch.nn.Module):\n",
    "    def __init__(self):\n",
    "        super(Model, self).__init__()\n",
    "        # implements <w,x> + b\n",
    "        self.linear = torch.nn.Linear(1, 1, bias=False) \n",
    "\n",
    "    def forward(self, x):\n",
    "        # implements 1/(1+exp(-<w,x>+b))\n",
    "        y_pred = F.sigmoid(self.linear(x)) \n",
    "        return y_pred\n",
    "    \n",
    "# Lets instantiate that model\n",
    "model = Model()"
   ]
  },
  {
   "cell_type": "markdown",
   "metadata": {},
   "source": [
    "Lets look at the current output of the model (uninitialized) ..."
   ]
  },
  {
   "cell_type": "code",
   "execution_count": 8,
   "metadata": {},
   "outputs": [
    {
     "data": {
      "text/plain": [
       "<matplotlib.legend.Legend at 0x11a3368d0>"
      ]
     },
     "execution_count": 8,
     "metadata": {},
     "output_type": "execute_result"
    },
    {
     "data": {
      "image/png": "[encoded data removed]",
      "text/plain": [
       "<Figure size 360x216 with 1 Axes>"
      ]
     },
     "metadata": {},
     "output_type": "display_data"
    }
   ],
   "source": [
    "import numpy as np\n",
    "\n",
    "x_i = torch.Tensor(np.linspace(-100,100,100).T).unsqueeze(1) # (100,1)\n",
    "y_i = model(x_i)\n",
    "\n",
    "plt.figure(figsize=(5,3))\n",
    "plt.plot(x_i.detach().numpy(),y_i.detach().numpy())\n",
    "plt.legend(['LR model (untrained)'])"
   ]
  },
  {
   "cell_type": "code",
   "execution_count": 9,
   "metadata": {},
   "outputs": [],
   "source": [
    "from torch.utils.data import TensorDataset, DataLoader\n",
    "from torch.optim import SGD\n",
    "\n",
    "x = np.linspace(-4,4,100, dtype=np.float32)\n",
    "y = (w_true*x + b_true)\n",
    "sigm = lambda x: 1/(1+math.exp(-x))\n",
    "y = np.array(list(map(sigm, y)))\n",
    "z = np.array(list(map(lambda y: 1 if y>=0.5 else 0, y)),dtype=np.float32)\n",
    "\n",
    "# make sure we have tensors\n",
    "X = torch.from_numpy(x).unsqueeze(1)\n",
    "Z = torch.from_numpy(z).unsqueeze(1)\n",
    "\n",
    "# create a tensor dataset, so we can easily use the DataLoader\n",
    "ds = TensorDataset(X,Z)\n",
    "# create a data loader that will provide batches of size 16\n",
    "# and shuffle the training data.\n",
    "dl = DataLoader(ds, batch_size=16, shuffle=True)\n",
    "\n",
    "# create new model\n",
    "model = Model()\n",
    "\n",
    "# create optimizer\n",
    "opt = SGD(model.parameters(), # [w,(b)]\n",
    "          lr=1e-1,            # learning rate (for paramter update)\n",
    "          weight_decay=1e-2)  # weight decay = l2 penalty on weights\n",
    "\n",
    "# binary cross entropy loss\n",
    "bce = torch.nn.BCELoss()"
   ]
  },
  {
   "cell_type": "code",
   "execution_count": 10,
   "metadata": {},
   "outputs": [
    {
     "name": "stdout",
     "output_type": "stream",
     "text": [
      "0 7.934542417526245\n",
      "100 0.48763648071326315\n",
      "200 0.6996221160516143\n",
      "300 0.49535821191966534\n",
      "400 0.4758445033803582\n"
     ]
    }
   ],
   "source": [
    "losses = []\n",
    "for epoch in range(500):\n",
    "    epoch_loss = 0\n",
    "    for (x,y) in dl:\n",
    "        model.zero_grad()\n",
    "        out = model(x)\n",
    "        loss = bce(out, y)\n",
    "        epoch_loss += loss.item()\n",
    "        loss.backward()\n",
    "        opt.step()\n",
    "    if epoch % 100 == 0:\n",
    "        print(epoch, epoch_loss)\n",
    "    losses.append(epoch_loss)"
   ]
  },
  {
   "cell_type": "code",
   "execution_count": 11,
   "metadata": {},
   "outputs": [
    {
     "data": {
      "text/plain": [
       "<matplotlib.legend.Legend at 0x1a1c4a2c50>"
      ]
     },
     "execution_count": 11,
     "metadata": {},
     "output_type": "execute_result"
    },
    {
     "data": {
      "image/png": "[encoded data removed]",
      "text/plain": [
       "<Figure size 360x216 with 1 Axes>"
      ]
     },
     "metadata": {},
     "output_type": "display_data"
    }
   ],
   "source": [
    "plt.figure(figsize=(5,3))\n",
    "plt.plot(losses)\n",
    "plt.xlabel('Epoch')\n",
    "plt.ylabel('BCE Loss')\n",
    "plt.legend(['Training loss'])"
   ]
  },
  {
   "cell_type": "code",
   "execution_count": 12,
   "metadata": {},
   "outputs": [
    {
     "name": "stdout",
     "output_type": "stream",
     "text": [
      "Parameter containing:\n",
      "tensor([[ 2.7329]])\n"
     ]
    }
   ],
   "source": [
    "print(model.linear.weight)"
   ]
  },
  {
   "cell_type": "code",
   "execution_count": null,
   "metadata": {},
   "outputs": [],
   "source": []
  }
 ],
 "metadata": {
  "kernelspec": {
   "display_name": "Python 3",
   "language": "python",
   "name": "python3"
  },
  "language_info": {
   "codemirror_mode": {
    "name": "ipython",
    "version": 3
   },
   "file_extension": ".py",
   "mimetype": "text/x-python",
   "name": "python",
   "nbconvert_exporter": "python",
   "pygments_lexer": "ipython3",
   "version": "3.6.5"
  }
 },
 "nbformat": 4,
 "nbformat_minor": 2
}
