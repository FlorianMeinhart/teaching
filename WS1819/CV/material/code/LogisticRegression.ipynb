{
 "cells": [
  {
   "cell_type": "markdown",
   "metadata": {},
   "source": [
    "# Logistic Regression (in 1D) - PART I"
   ]
  },
  {
   "cell_type": "code",
   "execution_count": 2,
   "metadata": {},
   "outputs": [],
   "source": [
    "import torch\n",
    "import torch.nn.functional as F\n",
    "import matplotlib.pyplot as plt\n",
    "import numpy as np"
   ]
  },
  {
   "cell_type": "markdown",
   "metadata": {},
   "source": [
    "Create some toy data ..."
   ]
  },
  {
   "cell_type": "code",
   "execution_count": 3,
   "metadata": {},
   "outputs": [
    {
     "data": {
      "image/png": "[encoded data removed]",
      "text/plain": [
       "<Figure size 360x216 with 1 Axes>"
      ]
     },
     "metadata": {
      "needs_background": "light"
     },
     "output_type": "display_data"
    }
   ],
   "source": [
    "x = [[1.0], [2.0], [3.0], [4.0]]\n",
    "y = [[0.], [0.], [1.], [1.]]\n",
    "\n",
    "# Make sure we have our data as a tensor\n",
    "x_data = torch.Tensor(x)\n",
    "y_data = torch.Tensor(y)\n",
    "\n",
    "# Visualize data ...\n",
    "plt.figure(figsize=(5,3))\n",
    "plt.plot(x,y,'r+')\n",
    "plt.xlabel('x');\n",
    "plt.ylabel('y');"
   ]
  },
  {
   "cell_type": "markdown",
   "metadata": {},
   "source": [
    "## Model"
   ]
  },
  {
   "cell_type": "markdown",
   "metadata": {},
   "source": [
    "Create a simple neural network that implements logistic regression, i.e., we model the conditional probability of label $1$ under $x$ as \n",
    "\n",
    "$$P(y=1|x) = sigm(\\langle w,x \\rangle + b),$$\n",
    "\n",
    "where \n",
    "\n",
    "$$sigm(x) = \\frac{1}{1+e^{-x}}\\enspace.$$\n",
    "\n",
    "is the **sigmoid** function. So, for $x=0$, the sigmoid returns 0.5. If interpreted as the probability of class label 1 given $x$, this means that the classifier would be undecided (i.e., random guessing if label 0 or 1)."
   ]
  },
  {
   "cell_type": "code",
   "execution_count": 10,
   "metadata": {},
   "outputs": [
    {
     "name": "stdout",
     "output_type": "stream",
     "text": [
      "sigm(0)=0.5\n"
     ]
    }
   ],
   "source": [
    "print('sigm(0)={}'.format(F.sigmoid(torch.Tensor([0])).item()))"
   ]
  },
  {
   "cell_type": "markdown",
   "metadata": {},
   "source": [
    "Lets specify our logistic regression model as a Pytorch class."
   ]
  },
  {
   "cell_type": "code",
   "execution_count": 11,
   "metadata": {},
   "outputs": [],
   "source": [
    "# Derive from torch.nn.Module\n",
    "class Model(torch.nn.Module):\n",
    "    def __init__(self):\n",
    "        super(Model, self).__init__()\n",
    "        self.linear = torch.nn.Linear(1, 1, bias=True) # implements <w,x> + b\n",
    "\n",
    "    def forward(self, x):\n",
    "        y_pred = F.sigmoid(self.linear(x)) # implements 1/(1+exp(-<w,x>+b))\n",
    "        return y_pred"
   ]
  },
  {
   "cell_type": "markdown",
   "metadata": {},
   "source": [
    "Just as a reminder, in 1D we effectively have\n",
    "\n",
    "$$P(y=1|x) = \\frac{1}{1+e^{-(\\langle w, x\\rangle +b)}}$$"
   ]
  },
  {
   "cell_type": "code",
   "execution_count": 12,
   "metadata": {},
   "outputs": [],
   "source": [
    "# Lets instantiate that model\n",
    "model = Model()"
   ]
  },
  {
   "cell_type": "markdown",
   "metadata": {},
   "source": [
    "Our labels are in $\\{0,1\\}$. Our data points $x$ in $\\mathbb{R}$. If we want to fit our model to a training set of $N$ points $(x_i,y_i)$, we need a way to measure the quality of the fit. However, our targets are binary variables (i.e., class labels, either $0$ or $1$). \n",
    "\n",
    "In logistic regression, we model $P(y|x)$ as a Bernoulli random variabe, where the probability of event $1$ is given by the sigmoid function. Assuming all $x_i$ are **independent and identically (iid)** distributed, we can write\n",
    "\n",
    "$$ p((y_1,\\ldots,y_n)|X=(x_1,\\ldots,x_n)) = \\prod_i \\left( \\frac{1}{1+\\exp^{-(wx+b)}} \\right)^{y_i} \n",
    "\\left(1-\\frac{1}{1+\\exp^{-(wx+b)}} \\right)^{1-y_i}$$\n",
    "\n",
    "Note that we have left-out the inner product notation $\\langle \\cdot,\\cdot \\rangle$, as we are dealing with 1D data."
   ]
  },
  {
   "cell_type": "markdown",
   "metadata": {},
   "source": [
    "## Objective"
   ]
  },
  {
   "cell_type": "markdown",
   "metadata": {},
   "source": [
    "Our goal is to choose $(w,b)$ such that this likelihood is **maximized**. We also switch to log-space for numerical stability and get\n",
    "\n",
    "$$p((y_1,\\ldots,y_n)|X=(x_1,\\ldots,x_n)) = \\sum_i y_i \\log(\\pi_i) + (1-y_i)\\log(1-\\pi_i)$$\n",
    "\n",
    "Effectively, we could also minimize the **negative** of this sum and denote this as our **cost/loss** function $J(\\theta)$ with $\\theta=[w,b]$. In machine learning this is called the **binary cross entropy** loss. \"Binary\" because we have two classes and \"cross entropy\" because we effectively measure the cross entropy between target and output."
   ]
  },
  {
   "cell_type": "markdown",
   "metadata": {},
   "source": [
    "Lets look at the current output of the model (uninitialized) ..."
   ]
  },
  {
   "cell_type": "code",
   "execution_count": 13,
   "metadata": {},
   "outputs": [
    {
     "data": {
      "text/plain": [
       "<matplotlib.legend.Legend at 0x11802cc88>"
      ]
     },
     "execution_count": 13,
     "metadata": {},
     "output_type": "execute_result"
    },
    {
     "data": {
      "image/png": "[encoded data removed]",
      "text/plain": [
       "<Figure size 432x288 with 1 Axes>"
      ]
     },
     "metadata": {
      "needs_background": "light"
     },
     "output_type": "display_data"
    }
   ],
   "source": [
    "import numpy as np\n",
    "\n",
    "x_i = torch.Tensor(np.linspace(-100,100,100).T).unsqueeze(1) # (100,1)\n",
    "y_i = model(x_i)\n",
    "\n",
    "plt.plot(x_i.detach().numpy(),y_i.detach().numpy())\n",
    "plt.plot(x,y,'r+')\n",
    "plt.legend(['LR model (untrained)', 'Data'])"
   ]
  },
  {
   "cell_type": "markdown",
   "metadata": {},
   "source": [
    "# Logistic Regression (in 1D) - PART II"
   ]
  },
  {
   "cell_type": "markdown",
   "metadata": {},
   "source": [
    "To **train** the model, we will (1) need a suitable loss function and (2) a way to optimize the paramters $(w,b)$."
   ]
  }
 ],
 "metadata": {
  "kernelspec": {
   "display_name": "Python 3",
   "language": "python",
   "name": "python3"
  },
  "language_info": {
   "codemirror_mode": {
    "name": "ipython",
    "version": 3
   },
   "file_extension": ".py",
   "mimetype": "text/x-python",
   "name": "python",
   "nbconvert_exporter": "python",
   "pygments_lexer": "ipython3",
   "version": "3.6.3"
  }
 },
 "nbformat": 4,
 "nbformat_minor": 2
}
