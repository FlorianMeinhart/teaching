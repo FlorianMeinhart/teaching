{
 "cells": [
  {
   "cell_type": "markdown",
   "metadata": {},
   "source": [
    "# XOR Example\n",
    "(lecture date: Oct. 8; see chapter 6 (DLB) for details)\n",
    "\n",
    "This simple example introduces **neurons**, **fully-connected (FC) layers** (aka linear layers), as well as our first non-linearity, i.e., a **rectified linear unit (ReLU)**."
   ]
  },
  {
   "cell_type": "code",
   "execution_count": 17,
   "metadata": {},
   "outputs": [],
   "source": [
    "%matplotlib inline\n",
    "import matplotlib.pyplot as plt\n",
    "import numpy as np\n",
    "plt.style.use('ggplot')"
   ]
  },
  {
   "cell_type": "markdown",
   "metadata": {},
   "source": [
    "Let's define our **training** points, these are the inputs to the XOR function. Note that we add a one as the last dimension for reasons that will be clearer later."
   ]
  },
  {
   "cell_type": "code",
   "execution_count": 18,
   "metadata": {},
   "outputs": [
    {
     "data": {
      "text/plain": [
       "[<matplotlib.lines.Line2D at 0x1144747b8>]"
      ]
     },
     "execution_count": 18,
     "metadata": {},
     "output_type": "execute_result"
    },
    {
     "data": {
      "image/png": "[encoded data removed]",
      "text/plain": [
       "<Figure size 432x288 with 1 Axes>"
      ]
     },
     "metadata": {
      "needs_background": "light"
     },
     "output_type": "display_data"
    }
   ],
   "source": [
    "# XOR training points\n",
    "X = np.array([\n",
    "    [0,0,1], # 0,0 -> 0\n",
    "    [0,1,1], # 0,1 -> 1\n",
    "    [1,0,1], # 1,0 -> 1\n",
    "    [1,1,1]])# 1,1 -> 0\n",
    "\n",
    "plt.figure(figsize=(6,4))\n",
    "plt.plot(X[:,0],X[:,1],'ro',markersize=12)"
   ]
  },
  {
   "cell_type": "markdown",
   "metadata": {},
   "source": [
    "For every row in `X` we need a target. The target is the **output** of the XOR function."
   ]
  },
  {
   "cell_type": "code",
   "execution_count": 19,
   "metadata": {},
   "outputs": [],
   "source": [
    "y = np.array([0,1,1,0])"
   ]
  },
  {
   "cell_type": "markdown",
   "metadata": {},
   "source": [
    "We aim to minimize the following quantity (mean-squared error - MSE)\n",
    "\n",
    "$$ J(\\theta) = 1/4 \\sum_x (f^*(x) - f(x;\\theta))^2 $$\n",
    "\n",
    "where \n",
    "\n",
    "$$f(x;\\theta) = \\langle x,w\\rangle + b$$ \n",
    "\n",
    "is a **linear model** and $\\theta = [w,b]$. Lets try to do this with a least-squares solver first:"
   ]
  },
  {
   "cell_type": "code",
   "execution_count": 20,
   "metadata": {},
   "outputs": [
    {
     "name": "stdout",
     "output_type": "stream",
     "text": [
      "Weight: [-1.68915054e-16 -2.04995384e-16]\n",
      "Bias: 0.49999999999999983\n"
     ]
    }
   ],
   "source": [
    "# Use a least-squares solver\n",
    "w,_,_,_ = np.linalg.lstsq(X,y,rcond=None)\n",
    "print('Weight:', w[0:2])\n",
    "print('Bias:', w[-1])"
   ]
  },
  {
   "cell_type": "markdown",
   "metadata": {},
   "source": [
    "Apparently this does not work, as the output will always be $0.5$ (which is the least-squares solution, but not the values that we want for our XOR). So, a simple linear model cannot do the job here. Just as a reminder, minimizing the MSE has indeed a (well-known) closed-form solution for this model."
   ]
  },
  {
   "cell_type": "code",
   "execution_count": 21,
   "metadata": {},
   "outputs": [
    {
     "name": "stdout",
     "output_type": "stream",
     "text": [
      "Weight: [1.66533454e-16 5.55111512e-17]\n",
      "Bias: 0.49999999999999983\n"
     ]
    }
   ],
   "source": [
    "# Solve using close-form solution \n",
    "# inv(X'*X)*X'*y\n",
    "w = np.dot(\n",
    "    np.matmul(\n",
    "        np.linalg.inv(np.matmul(\n",
    "            X.T,\n",
    "            X)),\n",
    "        X.T),\n",
    "    y)\n",
    "print('Weight:', w[0:2])\n",
    "print('Bias:', w[-1])"
   ]
  },
  {
   "cell_type": "markdown",
   "metadata": {},
   "source": [
    "Lets try an alternative, and make the model **non-linear**. It's easy to show that just stacking linear functions on top of each other, e.g., $g(x) = f_1(f_2(x))$ with $f_1,f_2$ linear would not work either, as the final model $g(x)$ would still be linear. \n",
    "\n",
    "Our goal is to have something like \n",
    "\n",
    "$$f(x;\\theta) = \\langle \\phi(x), w\\rangle +b$$\n",
    "\n",
    "where $\\phi(x)$ suitably transforms our features $x$ into a **representation** where the outer linear model would work."
   ]
  },
  {
   "cell_type": "markdown",
   "metadata": {},
   "source": [
    "In particular, we aim to implement \n",
    "\n",
    "$$f(x;W,c,w,b) = w^\\top \\max(0, W^\\top x + c) + b$$\n",
    "\n",
    "That is, the input goes (1) through one hidden layer with 2 units, then (2) through a ReLU (rectified linear unit) non-linearity and (3) finally through another linear layer with one unit."
   ]
  },
  {
   "cell_type": "code",
   "execution_count": 22,
   "metadata": {},
   "outputs": [],
   "source": [
    "import torch         # import pytorch\n",
    "from torch import nn # import the neural network submodule from pytorch"
   ]
  },
  {
   "cell_type": "markdown",
   "metadata": {},
   "source": [
    "### Linear layers"
   ]
  },
  {
   "cell_type": "code",
   "execution_count": 55,
   "metadata": {},
   "outputs": [
    {
     "name": "stdout",
     "output_type": "stream",
     "text": [
      "Weight of layer: [[0.141016  0.2620867]]\n",
      "Input: [-1.6602445 -0.9150398]\n",
      "Output: -0.4739\n"
     ]
    }
   ],
   "source": [
    "# Define a linear layer (FC layer) with 2 inputs and 1 output\n",
    "ll = nn.Linear(2, 1, bias=False)\n",
    "print('Weight of layer:', ll.weight.detach().numpy())\n",
    "\n",
    "# Get a random tensor with 2 values\n",
    "x = torch.randn(2)\n",
    "print('Input:', x.numpy())\n",
    "\n",
    "# Pass x through the linear layer\n",
    "print('Output: {:.4f}'.format(ll(x).item()))"
   ]
  },
  {
   "cell_type": "markdown",
   "metadata": {},
   "source": [
    "Lets quickly check the result, by computing the dot product $\\langle w,x\\rangle$:"
   ]
  },
  {
   "cell_type": "code",
   "execution_count": 54,
   "metadata": {},
   "outputs": [
    {
     "name": "stdout",
     "output_type": "stream",
     "text": [
      "Dot product: 0.30426273\n"
     ]
    }
   ],
   "source": [
    "a = ll.weight.data.numpy().flatten()\n",
    "b = x.data.numpy()\n",
    "print('Dot product:', (a*b).sum())\n",
    "assert(np.abs(ll(x).item() -(a*b).sum())<1e-9)"
   ]
  },
  {
   "cell_type": "markdown",
   "metadata": {},
   "source": [
    "In fact, we have now one neuron that takes 2 inputs and produces 1 output. Now, lets try to have two 2 neurons, each producing one output:"
   ]
  },
  {
   "cell_type": "code",
   "execution_count": 75,
   "metadata": {},
   "outputs": [
    {
     "name": "stdout",
     "output_type": "stream",
     "text": [
      "Output: tensor([ 0.8718,  0.1384])\n",
      "Parameter containing:\n",
      "tensor([[-0.6059, -0.6352],\n",
      "        [ 0.1668, -0.5973]])\n",
      "Output 1: 0.8718\n",
      "Output 2: 0.1384\n"
     ]
    }
   ],
   "source": [
    "hl = nn.Linear(2,2, bias=False)\n",
    "x = torch.randn(2)\n",
    "print(\"Output:\", hl(x))\n",
    "\n",
    "print(hl.weight)\n",
    "\n",
    "a = hl.weight.data.numpy()\n",
    "print(\"Output 1: {:.4f}\".format((a[0,:]*x.data.numpy()).sum()))\n",
    "print(\"Output 2: {:.4f}\".format((a[1,:]*x.data.numpy()).sum()))"
   ]
  },
  {
   "cell_type": "markdown",
   "metadata": {},
   "source": [
    "As we can see, the inputs are **connected to both neurons** and each neuron computes its own inner product. That's why we call such a layer a **fully-connected (FC) layer** in deep learning lingo.\n",
    "\n",
    "Next, lets see how we can make $f(x;\\theta)$ non-linear. We will do this by pushing the outputs of neurons through a non-linear function, in our case a **Rectified Linear Unit (ReLU)**."
   ]
  },
  {
   "cell_type": "markdown",
   "metadata": {},
   "source": [
    "### ReLU"
   ]
  },
  {
   "cell_type": "code",
   "execution_count": 78,
   "metadata": {},
   "outputs": [
    {
     "data": {
      "text/plain": [
       "Text(0.5,1,'Rectified Linear Unit (ReLU)')"
      ]
     },
     "execution_count": 78,
     "metadata": {},
     "output_type": "execute_result"
    },
    {
     "data": {
      "image/png": "[encoded data removed]",
      "text/plain": [
       "<Figure size 432x432 with 1 Axes>"
      ]
     },
     "metadata": {
      "needs_background": "light"
     },
     "output_type": "display_data"
    }
   ],
   "source": [
    "x = torch.from_numpy(np.linspace(-10,10)) # create 50 (default) linearly-spaced values in [-10,10]\n",
    "y = torch.nn.functional.relu(x).numpy()   # apply the ReLU function to each of those 50 values separately\n",
    "\n",
    "plt.figure(figsize=(6,6))\n",
    "plt.plot(np.linspace(-10,10),y,linewidth=3)\n",
    "plt.xlabel('x')\n",
    "plt.ylabel('relu(x)')\n",
    "plt.title('Rectified Linear Unit (ReLU)')"
   ]
  },
  {
   "cell_type": "code",
   "execution_count": 79,
   "metadata": {},
   "outputs": [
    {
     "name": "stdout",
     "output_type": "stream",
     "text": [
      "Weight of layer: [[0.24142897 0.62478644]]\n",
      "Input: [-0.04622351 -0.41967198]\n",
      "Output: -0.2734\n",
      "After ReLU 0.0000\n"
     ]
    }
   ],
   "source": [
    "# Here's a combination of a linear layer + ReLU\n",
    "ll = nn.Linear(2, 1, bias=False)\n",
    "rl = nn.ReLU()\n",
    "print('Weight of layer:', ll.weight.detach().numpy())\n",
    "x = torch.randn(2)\n",
    "print('Input:', x.numpy())\n",
    "print('Output: {:.4f}'.format(ll(x).item()))\n",
    "print('After ReLU {:.4f}'.format(rl(ll(x)).item()))"
   ]
  },
  {
   "cell_type": "markdown",
   "metadata": {},
   "source": [
    "Lets revisit the XOR example, but now we add a (hidden) layer with a non-linearity (ReLU). See pytorch documentation for more details on `nn.Sequential`."
   ]
  },
  {
   "cell_type": "code",
   "execution_count": 81,
   "metadata": {},
   "outputs": [],
   "source": [
    "net = nn.Sequential(\n",
    "    nn.Linear(2,2,bias=True), # implements W'x + c\n",
    "    nn.ReLU(),                # implements max(0, x)\n",
    "    nn.Linear(2,1,bias=True)) # implements w'x + b"
   ]
  },
  {
   "cell_type": "markdown",
   "metadata": {},
   "source": [
    "Lets set the network parameters by hand. Obviously, we are only going to do this once, as later we aim to **learn** them from training examples."
   ]
  },
  {
   "cell_type": "code",
   "execution_count": 82,
   "metadata": {},
   "outputs": [],
   "source": [
    "# see Chapter 6 for details\n",
    "W = np.array([[1,1],[1,1]], dtype=np.float32)\n",
    "c = np.array([[0,-1]],      dtype=np.float32)\n",
    "w = np.array([[1,-2]],      dtype=np.float32)\n",
    "b = np.array([0],           dtype=np.float32)\n",
    "\n",
    "net[0].weight = torch.nn.Parameter(torch.from_numpy(W))\n",
    "net[0].bias   = torch.nn.Parameter(torch.from_numpy(c))  \n",
    "net[2].weight = torch.nn.Parameter(torch.from_numpy(w))\n",
    "net[2].bias   = torch.nn.Parameter(torch.from_numpy(b))"
   ]
  },
  {
   "cell_type": "code",
   "execution_count": 84,
   "metadata": {},
   "outputs": [
    {
     "name": "stdout",
     "output_type": "stream",
     "text": [
      "tensor([[ 0.],\n",
      "        [ 1.],\n",
      "        [ 1.],\n",
      "        [ 0.]])\n"
     ]
    }
   ],
   "source": [
    "X = np.array([\n",
    "    [0,0], \n",
    "    [0,1], \n",
    "    [1,0], \n",
    "    [1,1]],dtype=np.float32)\n",
    "\n",
    "# push data through network\n",
    "y = net(torch.from_numpy(X)) # Voila\n",
    "print(y)"
   ]
  },
  {
   "cell_type": "markdown",
   "metadata": {},
   "source": [
    "Ok, so we have learned that transforming our input into a representation that is **suitable**, allows to fit a linear model that produces the desired output. This theme of finding a **suitable representation** of the data will occur many, many times ..."
   ]
  }
 ],
 "metadata": {
  "kernelspec": {
   "display_name": "Python 3",
   "language": "python",
   "name": "python3"
  },
  "language_info": {
   "codemirror_mode": {
    "name": "ipython",
    "version": 3
   },
   "file_extension": ".py",
   "mimetype": "text/x-python",
   "name": "python",
   "nbconvert_exporter": "python",
   "pygments_lexer": "ipython3",
   "version": "3.6.3"
  }
 },
 "nbformat": 4,
 "nbformat_minor": 2
}
