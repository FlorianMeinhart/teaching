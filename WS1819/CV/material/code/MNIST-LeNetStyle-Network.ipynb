{
 "cells": [
  {
   "cell_type": "code",
   "execution_count": 1,
   "metadata": {},
   "outputs": [],
   "source": [
    "from __future__ import print_function\n",
    "import argparse\n",
    "import torch\n",
    "import numpy as np\n",
    "import torch.nn as nn\n",
    "import torch.nn.functional as F\n",
    "import torch.optim as optim\n",
    "from torchvision import datasets, transforms"
   ]
  },
  {
   "cell_type": "code",
   "execution_count": 2,
   "metadata": {},
   "outputs": [
    {
     "name": "stdout",
     "output_type": "stream",
     "text": [
      "cpu\n"
     ]
    }
   ],
   "source": [
    "use_cuda = False\n",
    "device = torch.device(\"cuda\" if use_cuda else \"cpu\")\n",
    "print(device)"
   ]
  },
  {
   "cell_type": "code",
   "execution_count": 4,
   "metadata": {},
   "outputs": [
    {
     "name": "stdout",
     "output_type": "stream",
     "text": [
      "tensor([[[[5., 6.],\n",
      "          [8., 9.]]]])\n"
     ]
    }
   ],
   "source": [
    "x = torch.tensor(np.array([\n",
    "    [1,2,3],\n",
    "    [4,5,6],\n",
    "    [7,8,9]],dtype=np.float32))\n",
    "x = x.unsqueeze(0).unsqueeze(0)\n",
    "\n",
    "# x = torch.rand(10,1,32,32)\n",
    "\n",
    "# cl = nn.Conv2d(\n",
    "#     in_channels  = 1,\n",
    "#     out_channels = 500,\n",
    "#     kernel_size  = 3)\n",
    "\n",
    "# out = cl(x)\n",
    "#print(out.size())\n",
    "\n",
    "mp = nn.MaxPool2d(2,stride=1)\n",
    "print(mp(x))\n",
    "# # x = torch.randn(10,1,5,5)\n",
    "# # cl(x).size()\n"
   ]
  },
  {
   "cell_type": "markdown",
   "metadata": {},
   "source": [
    "# Conv.-Net for MNIST\n",
    "Next, we implement a simple convolutional neural network to classify MNIST images. First, lets specify the **network architecture**."
   ]
  },
  {
   "cell_type": "code",
   "execution_count": 5,
   "metadata": {},
   "outputs": [],
   "source": [
    "class Net(nn.Module):\n",
    "    def __init__(self):\n",
    "        super(Net, self).__init__()\n",
    "        \n",
    "        # Define layers (2 conv layers, 2 fully-connected layers)\n",
    "        self.conv1 = nn.Conv2d(1,  10, kernel_size=5)\n",
    "        self.conv2 = nn.Conv2d(10, 20, kernel_size=5)\n",
    "        self.fc1 = nn.Linear(320, 50)\n",
    "        self.fc2 = nn.Linear(50, 10)\n",
    "\n",
    "    # Specify the data flow through the model\n",
    "    def forward(self, x):\n",
    "        \n",
    "        # Conv->Pool->ReLU\n",
    "        x = F.relu(F.max_pool2d(self.conv1(x), 2))\n",
    "        # Conv->Pool->ReLU\n",
    "        x = F.relu(F.max_pool2d(self.conv2(x), 2))\n",
    "        # Reshape output into (batch-size x 320)\n",
    "        x = x.view(-1, 320)\n",
    "        # fully-connected->ReLU\n",
    "        x = F.relu(self.fc1(x))\n",
    "        # fully-connected\n",
    "        x = self.fc2(x)\n",
    "        return x"
   ]
  },
  {
   "cell_type": "markdown",
   "metadata": {},
   "source": [
    "Lets write our **training routine** for one epoch!"
   ]
  },
  {
   "cell_type": "code",
   "execution_count": 6,
   "metadata": {},
   "outputs": [],
   "source": [
    "def train(model, device, train_loader, optimizer, epoch):\n",
    "    # set model to training mode\n",
    "    model.train()\n",
    "    train_loss = 0\n",
    "    \n",
    "    # iterate over all batches of (img,label) from train_loader\n",
    "    for batch_idx, (data, target) in enumerate(train_loader):\n",
    "        \n",
    "        # device-agnostic code - if CUDA is available -> use it\n",
    "        data, target = data.to(device), target.to(device)\n",
    "        \n",
    "        # reset gradients\n",
    "        optimizer.zero_grad()\n",
    "        \n",
    "        # forward pass \n",
    "        output = model(data)\n",
    "        \n",
    "        # compute loss\n",
    "        loss = F.cross_entropy(output, target, reduction='sum')\n",
    "        train_loss += loss.item() \n",
    "        \n",
    "        loss = loss/data.size(0)\n",
    "        \n",
    "        # compute gradients\n",
    "        loss.backward()\n",
    "        \n",
    "        # update paramters\n",
    "        optimizer.step()\n",
    "\n",
    "        # some logging\n",
    "        if batch_idx % 100 == 0:\n",
    "            print('Train Epoch: {} [{}/{} ({:.0f}%)]\\tLoss: {:.6f}'.format(\n",
    "                epoch, batch_idx * len(data), len(train_loader.dataset),\n",
    "                100. * batch_idx / len(train_loader), loss.item()))\n",
    "\n",
    "    train_loss /= len(train_loader.dataset)\n",
    "    return train_loss"
   ]
  },
  {
   "cell_type": "markdown",
   "metadata": {},
   "source": [
    "Lets write our **testing routine** which we will call after one epoch of training!"
   ]
  },
  {
   "cell_type": "code",
   "execution_count": 7,
   "metadata": {},
   "outputs": [],
   "source": [
    "def test(model, device, test_loader):\n",
    "\n",
    "    # set model to evaluation mode\n",
    "    model.eval()\n",
    "    test_loss = 0\n",
    "    correct = 0\n",
    "    \n",
    "    # temporarily set all the requires_grad flag to False\n",
    "    with torch.no_grad():\n",
    "        \n",
    "        # iterate over testing batches  (img, label)\n",
    "        for data, target in test_loader:\n",
    "            \n",
    "            data, target = data.to(device), target.to(device)\n",
    "            \n",
    "            # forward pass \n",
    "            output = model(data)\n",
    "            \n",
    "            # track cross-entropy-loss on testing data\n",
    "            test_loss += F.cross_entropy(output, target, reduction='sum').item() \n",
    "            \n",
    "            # get the correct class prediction as the max. value of the last fully-connected layer\n",
    "            # Remember, the cross-entropy-loss operates on top of that layer! In that sense, the \n",
    "            # output of the last layer can be interpreted as the log-prob. of each class.\n",
    "            pred = output.max(1, keepdim=True)[1] \n",
    "            \n",
    "            # Track how many labels were correctly predicted\n",
    "            correct += pred.eq(target.view_as(pred)).sum().item()\n",
    "\n",
    "    # Overall testing loss\n",
    "    test_loss /= len(test_loader.dataset)\n",
    "    print('\\nTest set: Average loss: {:.4f}, Accuracy: {}/{} ({:.0f}%)\\n'.format(\n",
    "        test_loss, correct, len(test_loader.dataset),\n",
    "        100. * correct / len(test_loader.dataset)))\n",
    "\n",
    "    return test_loss"
   ]
  },
  {
   "cell_type": "code",
   "execution_count": 8,
   "metadata": {},
   "outputs": [],
   "source": [
    "# some named args that are passed to the dataloader\n",
    "kwargs = {\n",
    "    'num_workers': 1, \n",
    "    'pin_memory': True} if use_cuda else {}\n",
    "\n",
    "\"\"\"From the docs:\n",
    "\n",
    "Host to GPU copies are much faster when they originate \n",
    "from pinned (page-locked) memory. CPU tensors and storages \n",
    "expose a pin_memory() method, that returns a copy of the object, \n",
    "with data put in a pinned region.\n",
    "\n",
    "Also, once you pin a tensor or storage, you can use \n",
    "asynchronous GPU copies. Just pass an additional non_blocking=True \n",
    "argument to a cuda() call. This can be used to overlap data \n",
    "transfers with computation.\n",
    "\n",
    "You can make the DataLoader return batches placed in pinned memory \n",
    "by passing pin_memory=True to its constructor.\n",
    "\"\"\"\n",
    "\n",
    "# Create a training loader for MNIST - this loader will supply mini-batches of size 64\n",
    "train_loader = torch.utils.data.DataLoader(\n",
    "    datasets.MNIST('./data', train=True, download=True,\n",
    "        transform=transforms.Compose([\n",
    "        transforms.ToTensor(),\n",
    "        transforms.Normalize((0.1307,), (0.3081,))])),\n",
    "    batch_size=64, shuffle=True, **kwargs)\n",
    "\n",
    "# Create a testing loader for MNIST - this loader will supply mini-batches of size 64\n",
    "test_loader = torch.utils.data.DataLoader(\n",
    "        datasets.MNIST('./data', train=False, transform=transforms.Compose([\n",
    "                           transforms.ToTensor(),\n",
    "                           transforms.Normalize((0.1307,), (0.3081,))\n",
    "                       ])),\n",
    "        batch_size=64, shuffle=False, **kwargs)"
   ]
  },
  {
   "cell_type": "code",
   "execution_count": 18,
   "metadata": {},
   "outputs": [
    {
     "name": "stdout",
     "output_type": "stream",
     "text": [
      "Train Epoch: 1 [0/60000 (0%)]\tLoss: 2.309327\n",
      "Train Epoch: 1 [6400/60000 (11%)]\tLoss: 2.177939\n",
      "Train Epoch: 1 [12800/60000 (21%)]\tLoss: 1.436310\n",
      "Train Epoch: 1 [19200/60000 (32%)]\tLoss: 0.586512\n",
      "Train Epoch: 1 [25600/60000 (43%)]\tLoss: 0.374674\n",
      "Train Epoch: 1 [32000/60000 (53%)]\tLoss: 0.315199\n",
      "Train Epoch: 1 [38400/60000 (64%)]\tLoss: 0.309613\n",
      "Train Epoch: 1 [44800/60000 (75%)]\tLoss: 0.368463\n",
      "Train Epoch: 1 [51200/60000 (85%)]\tLoss: 0.303184\n",
      "Train Epoch: 1 [57600/60000 (96%)]\tLoss: 0.268100\n",
      "\n",
      "Test set: Average loss: 0.1996, Accuracy: 9441/10000 (94%)\n",
      "\n"
     ]
    }
   ],
   "source": [
    "# initialize the model and put it onto the GPU (if device='cuda')\n",
    "model = Net().to(device)\n",
    "\n",
    "# create a SGD optimizer\n",
    "optimizer = optim.SGD(\n",
    "    model.parameters(), \n",
    "    lr=0.001, \n",
    "    momentum=0.9) # we'll discuss momentum later on\n",
    "\n",
    "# Now, iterate over a couple of epochs ...\n",
    "\n",
    "train_losses = []\n",
    "test_losses  = []\n",
    "\n",
    "for epoch in range(1, 2):\n",
    "    train_loss = train(model, device, train_loader, optimizer, epoch)\n",
    "    test_loss  = test(model, device, test_loader)\n",
    "\n",
    "    train_losses.append(train_loss)\n",
    "    test_losses.append(test_loss)\n"
   ]
  },
  {
   "cell_type": "code",
   "execution_count": 19,
   "metadata": {},
   "outputs": [
    {
     "data": {
      "image/png": "[encoded data removed]",
      "text/plain": [
       "<Figure size 360x216 with 1 Axes>"
      ]
     },
     "metadata": {},
     "output_type": "display_data"
    }
   ],
   "source": [
    "%matplotlib inline\n",
    "import matplotlib.pyplot as plt\n",
    "\n",
    "plt.figure(figsize=(5,3))\n",
    "plt.plot(train_losses, lw=3)\n",
    "plt.plot(test_losses, lw=3)\n",
    "plt.xlabel('Epoch')\n",
    "plt.ylabel('Loss')\n",
    "plt.title('MNIST training progress')\n",
    "plt.legend(['Train','Test'])\n",
    "plt.grid()"
   ]
  },
  {
   "cell_type": "code",
   "execution_count": 20,
   "metadata": {},
   "outputs": [
    {
     "data": {
      "image/png": "[encoded data removed]",
      "text/plain": [
       "<Figure size 432x288 with 1 Axes>"
      ]
     },
     "metadata": {},
     "output_type": "display_data"
    }
   ],
   "source": [
    "idx = np.random.randint(0,len(test_loader.dataset))\n",
    "\n",
    "model = model.to('cuda')\n",
    "img, label = train_loader.dataset[idx]\n",
    "plt.imshow(img.permute(1,2,0).numpy()[:,:,0],cmap='gray')\n",
    "\n",
    "img = img.to('cuda')\n",
    "pred = model(img.unsqueeze(0)).max(1,keepdim=True)[1].item()\n",
    "\n",
    "plt.title('Image {} | True: {} | Pred: {}'.format(\n",
    "    idx, label, pred));"
   ]
  },
  {
   "cell_type": "code",
   "execution_count": 21,
   "metadata": {},
   "outputs": [
    {
     "name": "stdout",
     "output_type": "stream",
     "text": [
      "21840\n"
     ]
    }
   ],
   "source": [
    "s = 0\n",
    "for p in model.parameters(): s+=p.numel()\n",
    "print(s)"
   ]
  },
  {
   "cell_type": "code",
   "execution_count": null,
   "metadata": {},
   "outputs": [],
   "source": []
  }
 ],
 "metadata": {
  "kernelspec": {
   "display_name": "Python 3",
   "language": "python",
   "name": "python3"
  },
  "language_info": {
   "codemirror_mode": {
    "name": "ipython",
    "version": 3
   },
   "file_extension": ".py",
   "mimetype": "text/x-python",
   "name": "python",
   "nbconvert_exporter": "python",
   "pygments_lexer": "ipython3",
   "version": "3.6.5"
  }
 },
 "nbformat": 4,
 "nbformat_minor": 2
}
