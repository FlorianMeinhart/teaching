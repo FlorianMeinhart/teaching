{
 "cells": [
  {
   "cell_type": "markdown",
   "metadata": {},
   "source": [
    "## ERM for separating hyperlanes (realizable case)"
   ]
  },
  {
   "cell_type": "code",
   "execution_count": 8,
   "metadata": {},
   "outputs": [],
   "source": [
    "%matplotlib inline\n",
    "import numpy as np\n",
    "import matplotlib.pyplot as plt \n",
    "from sklearn import datasets"
   ]
  },
  {
   "cell_type": "markdown",
   "metadata": {},
   "source": [
    "First, we load the famous IRIS dataset"
   ]
  },
  {
   "cell_type": "code",
   "execution_count": 9,
   "metadata": {
    "collapsed": true
   },
   "outputs": [],
   "source": [
    "data = datasets.load_iris()"
   ]
  },
  {
   "cell_type": "markdown",
   "metadata": {},
   "source": [
    "Next, we print out the IRIS names and feature names"
   ]
  },
  {
   "cell_type": "code",
   "execution_count": 27,
   "metadata": {},
   "outputs": [
    {
     "name": "stdout",
     "output_type": "stream",
     "text": [
      "['setosa' 'versicolor' 'virginica']\n"
     ]
    }
   ],
   "source": [
    "print data.target_names"
   ]
  },
  {
   "cell_type": "code",
   "execution_count": 28,
   "metadata": {},
   "outputs": [
    {
     "name": "stdout",
     "output_type": "stream",
     "text": [
      "0 sepal length (cm)\n",
      "1 sepal width (cm)\n",
      "2 petal length (cm)\n",
      "3 petal width (cm)\n"
     ]
    }
   ],
   "source": [
    "for i,name in enumerate(data.feature_names):\n",
    "    print i, name"
   ]
  },
  {
   "cell_type": "markdown",
   "metadata": {},
   "source": [
    "Let's plot petal length vs. petal width"
   ]
  },
  {
   "cell_type": "code",
   "execution_count": 48,
   "metadata": {
    "scrolled": true
   },
   "outputs": [
    {
     "data": {
      "text/plain": [
       "<matplotlib.legend.Legend at 0x1a18743d50>"
      ]
     },
     "execution_count": 48,
     "metadata": {},
     "output_type": "execute_result"
    },
    {
     "data": {
      "image/png": "[encoded data removed]",
      "text/plain": [
       "<matplotlib.figure.Figure at 0x1a18743f90>"
      ]
     },
     "metadata": {},
     "output_type": "display_data"
    }
   ],
   "source": [
    "leg = []\n",
    "for i,t in enumerate(data.target_names):\n",
    "    x = data.data[np.where(data.target==i)[0],2]\n",
    "    y = data.data[np.where(data.target==i)[0],3]\n",
    "    plt.scatter(x,y)\n",
    "    leg.append(t)\n",
    "plt.legend(leg)"
   ]
  },
  {
   "cell_type": "markdown",
   "metadata": {},
   "source": [
    "Ok, so **setosa** is linearly separable from the rest (hence, realizability is given). Let's try to find a separating hyperplane. First, we will scale the data (always a good idea)!"
   ]
  },
  {
   "cell_type": "code",
   "execution_count": 54,
   "metadata": {},
   "outputs": [],
   "source": [
    "from sklearn.preprocessing import StandardScaler\n",
    "sc = StandardScaler()\n",
    "X = sc.fit_transform(data.data[:,2:4])"
   ]
  },
  {
   "cell_type": "code",
   "execution_count": 56,
   "metadata": {},
   "outputs": [
    {
     "data": {
      "text/plain": [
       "<matplotlib.legend.Legend at 0x1a192d50d0>"
      ]
     },
     "execution_count": 56,
     "metadata": {},
     "output_type": "execute_result"
    },
    {
     "data": {
      "image/png": "[encoded data removed]",
      "text/plain": [
       "<matplotlib.figure.Figure at 0x1a192d5150>"
      ]
     },
     "metadata": {},
     "output_type": "display_data"
    }
   ],
   "source": [
    "leg = []\n",
    "for i,t in enumerate(data.target_names):\n",
    "    x = X[np.where(data.target==i)[0],0]\n",
    "    y = X[np.where(data.target==i)[0],1]\n",
    "    plt.scatter(x,y)\n",
    "    leg.append(t)\n",
    "plt.legend(leg)"
   ]
  },
  {
   "cell_type": "markdown",
   "metadata": {},
   "source": [
    "Ok, now we can formulate our **linear program** and solve it."
   ]
  },
  {
   "cell_type": "markdown",
   "metadata": {},
   "source": [
    "We start by creating a label vector of {+1,-1} for setosa (+1) vs. the rest (-1)."
   ]
  },
  {
   "cell_type": "code",
   "execution_count": 88,
   "metadata": {},
   "outputs": [],
   "source": [
    "labels = np.where(data.target == 0, 1 , -1)"
   ]
  },
  {
   "cell_type": "markdown",
   "metadata": {},
   "source": [
    "Now, we set up the linear program\n",
    "\n",
    "```\n",
    "max <u,w> s.t.\n",
    "Aw >= v (*)\n",
    "```\n",
    "Our rows in A will be [x_i 1] which we then need to multiply the the label y_i. This will give us a matrix ```A_ub``` that when multiplied by ```w``` gives the values for the upper-bound inequality costraint (*).\n",
    "\n",
    "To do this, we multiply the data first (**Step 1**), and then simply add the labels as a separate (last) column (**Step 2**).\n",
    "\n"
   ]
  },
  {
   "cell_type": "code",
   "execution_count": 94,
   "metadata": {},
   "outputs": [],
   "source": [
    "# Step 1\n",
    "A = np.array(labels.reshape(-1,1) * X)\n",
    "\n",
    "# construct a matrix A_ub, s.t. when multiplied by w gives the \n",
    "# values of the upper-bound inequality constraint.\n",
    "A_ub = np.append(A, labels.reshape(-1,1), 1)"
   ]
  },
  {
   "cell_type": "markdown",
   "metadata": {},
   "source": [
    "Now, we can setup ```v``` as a vector of all minus ones."
   ]
  },
  {
   "cell_type": "code",
   "execution_count": 96,
   "metadata": {
    "collapsed": true
   },
   "outputs": [],
   "source": [
    "b_ub = np.repeat(-1, A_ub.shape[0]).reshape(-1,1)     "
   ]
  },
  {
   "cell_type": "markdown",
   "metadata": {},
   "source": [
    "Finally, we set u=(1,1,1) and run our LP solver."
   ]
  },
  {
   "cell_type": "code",
   "execution_count": 98,
   "metadata": {},
   "outputs": [
    {
     "name": "stdout",
     "output_type": "stream",
     "text": [
      "Our normal vector is:  [ 1.21277875  1.57368128  1.72735632]\n"
     ]
    }
   ],
   "source": [
    "u = np.repeat(1, A_ub.shape[1])\n",
    "\n",
    "from scipy.optimize import linprog\n",
    "res = linprog(c=u, A_ub=A_ub, b_ub=b_ub, options={\"disp\": False})\n",
    "print \"Our normal vector is: \", res.x\n",
    "w = res.x"
   ]
  },
  {
   "cell_type": "markdown",
   "metadata": {},
   "source": [
    "Let's plot the hyperplane (or line :)"
   ]
  },
  {
   "cell_type": "code",
   "execution_count": 116,
   "metadata": {},
   "outputs": [
    {
     "data": {
      "text/plain": [
       "<matplotlib.legend.Legend at 0x1a1a25af90>"
      ]
     },
     "execution_count": 116,
     "metadata": {},
     "output_type": "execute_result"
    },
    {
     "data": {
      "image/png": "[encoded data removed]",
      "text/plain": [
       "<matplotlib.figure.Figure at 0x1a1a24e910>"
      ]
     },
     "metadata": {},
     "output_type": "display_data"
    }
   ],
   "source": [
    "r = np.arange(np.min(X[:,0]), np.max(X[:,1]), 0.5)\n",
    "\n",
    "def f(x, w):\n",
    "    return -w[-1]/w[1] - w[0]/w[1] * x\n",
    "\n",
    "leg = []\n",
    "for i,t in enumerate(data.target_names):\n",
    "    x = X[np.where(data.target==i)[0],0]\n",
    "    y = X[np.where(data.target==i)[0],1]\n",
    "    plt.plot(x,y,'.')\n",
    "    leg.append(t)\n",
    "plt.plot(r, f(r,w))\n",
    "plt.legend(leg)"
   ]
  }
 ],
 "metadata": {
  "kernelspec": {
   "display_name": "Python 2",
   "language": "python",
   "name": "python2"
  },
  "language_info": {
   "codemirror_mode": {
    "name": "ipython",
    "version": 2
   },
   "file_extension": ".py",
   "mimetype": "text/x-python",
   "name": "python",
   "nbconvert_exporter": "python",
   "pygments_lexer": "ipython2",
   "version": "2.7.13"
  }
 },
 "nbformat": 4,
 "nbformat_minor": 2
}
